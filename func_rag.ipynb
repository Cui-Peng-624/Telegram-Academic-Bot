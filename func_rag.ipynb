{
 "cells": [
  {
   "cell_type": "code",
   "execution_count": 1,
   "id": "2420e7e2-92a5-43ac-bda6-dc4db2e6c235",
   "metadata": {},
   "outputs": [],
   "source": [
    "import os\n",
    "os.environ[\"http_proxy\"]=\"127.0.0.1:7890\"\n",
    "os.environ[\"https_proxy\"]=\"127.0.0.1:7890\""
   ]
  },
  {
   "cell_type": "code",
   "execution_count": 2,
   "id": "ee67093d-b315-4f50-b8e5-1ca72c5d574b",
   "metadata": {},
   "outputs": [],
   "source": [
    "from openai import OpenAI\n",
    "\n",
    "# 官方API\n",
    "# client = OpenAI()\n",
    "\n",
    "# 第三方低价API\n",
    "api_key = \"\"\n",
    "api_base = \"\"\n",
    "client = OpenAI(api_key=api_key, base_url=api_base)"
   ]
  },
  {
   "cell_type": "code",
   "execution_count": 3,
   "id": "62e9c9c1-5cad-4609-964d-06f41bf7ecf7",
   "metadata": {},
   "outputs": [],
   "source": [
    "import telebot\n",
    "\n",
    "BOT_TOKEN = \"\"\n",
    "bot = telebot.TeleBot(BOT_TOKEN)"
   ]
  },
  {
   "cell_type": "code",
   "execution_count": 4,
   "id": "cf639c94-a5de-4b10-a209-c48cdd16f466",
   "metadata": {},
   "outputs": [],
   "source": [
    "from pinecone import Pinecone, ServerlessSpec\n",
    "\n",
    "PINECONE_API_KEY = os.environ.get(\"PINECONE_API_KEY\")\n",
    "pc = Pinecone(api_key=PINECONE_API_KEY)\n",
    "\n",
    "index_name = \"telebot\"  # change if desired\n",
    "index = pc.Index(index_name)"
   ]
  },
  {
   "cell_type": "code",
   "execution_count": 5,
   "id": "811380a2-b6ad-4eec-b717-ab1933fbcd10",
   "metadata": {},
   "outputs": [],
   "source": [
    "from langchain_openai import OpenAIEmbeddings\n",
    "\n",
    "embeddings = OpenAIEmbeddings(model=\"text-embedding-3-large\", api_key=api_key, base_url=api_base) # 使用第三方低价API"
   ]
  },
  {
   "cell_type": "code",
   "execution_count": 6,
   "id": "8b586602-ac21-4d0d-a194-fc04bcc6bc71",
   "metadata": {},
   "outputs": [],
   "source": [
    "# 用户输入命令后选择文档类别\n",
    "@bot.message_handler(commands=['rag'])\n",
    "def ask_field(message):\n",
    "    \"\"\"\n",
    "    让用户选择领域并提问。\n",
    "    \"\"\"\n",
    "    markup = telebot.types.ReplyKeyboardMarkup(one_time_keyboard=True) # 卧槽,牛逼啊,变成选择题了!\n",
    "    fields = ['Education', 'Computer_Science', 'Medicine', 'Literature', 'Other']\n",
    "    for field in fields:\n",
    "        markup.add(field)\n",
    "    bot.send_message(message.chat.id, \"请选择一个领域:\", reply_markup=markup)\n",
    "    bot.register_next_step_handler(message, get_user_question)"
   ]
  },
  {
   "cell_type": "code",
   "execution_count": 7,
   "id": "d370bd8a-c933-45c9-ab17-ea72afbffacf",
   "metadata": {},
   "outputs": [],
   "source": [
    "def get_user_question(message):\n",
    "    \"\"\"\n",
    "    获取用户的问题并开始处理查询。\n",
    "    \"\"\"\n",
    "    selected_field = message.text\n",
    "    bot.send_message(message.chat.id, \"请输入您的问题:\")\n",
    "    bot.register_next_step_handler(message, lambda m: process_query(m, selected_field))\n",
    "\n",
    "def process_query(message, field):\n",
    "    \"\"\"\n",
    "    处理用户查询：在Pinecone中搜索相似内容并生成答案。\n",
    "    \"\"\"\n",
    "    user_question = message.text\n",
    "    namespace = field\n",
    "    results = search_similar_documents(user_question, namespace)\n",
    "    top_k_results = [res.page_content for res, _ in results]\n",
    "    \n",
    "    # 将用户问题与检索结果一同传给OpenAI生成最终答案\n",
    "    final_answer = generate_answer(user_question, top_k_results)\n",
    "    \n",
    "    # 返回结果给用户\n",
    "    bot.send_message(message.chat.id, final_answer, parse_mode=\"Markdown\")\n",
    "\n",
    "from langchain_pinecone import PineconeVectorStore\n",
    "\n",
    "def search_similar_documents(query, namespace, top_k=5):\n",
    "    \"\"\"\n",
    "    在Pinecone的特定namespace中查找与query最相似的文档内容。\n",
    "    \"\"\"\n",
    "    vector_store = PineconeVectorStore(index=index, namespace=namespace, embedding=embeddings)\n",
    "    results = vector_store.similarity_search_with_score(query, k=top_k)\n",
    "    return results\n",
    "\n",
    "def generate_answer(user_question, documents):\n",
    "    \"\"\"\n",
    "    将用户问题和检索到的文档内容传入OpenAI模型生成答案。\n",
    "    \"\"\"\n",
    "    context = \"\\n\".join(documents)\n",
    "    user_prompt = f\"用户问题: {user_question}\\n相关文档:\\n{context}\\n请根据这些内容回答问题：\"\n",
    "\n",
    "    # system prompt 用于指导模型回答\n",
    "    system_prompt = (\n",
    "        \"你是一个帮助用户回答基于文档内容的问题的助手。\"\n",
    "        \"当用户提出问题时，你应该根据提供的相关文档中的信息进行回答。\"\n",
    "        \"如果文档中包含答案，尽可能引用文档内容并确保准确性。\"\n",
    "        \"如果文档中没有明确的答案，请基于你对文档的理解提供推断，但避免过度猜测。\"\n",
    "    )\n",
    "    \n",
    "    messages_to_model = [\n",
    "        {\"role\": \"system\", \"content\": system_prompt},\n",
    "        {\"role\": \"user\", \"content\": user_prompt}\n",
    "    ]\n",
    "\n",
    "    # 使用OpenAI生成最终答案\n",
    "    completion = client.chat.completions.create(model=\"gpt-4o-mini\", messages=messages_to_model)\n",
    "    # print(user_prompt)\n",
    "    return completion.choices[0].message.content"
   ]
  },
  {
   "cell_type": "code",
   "execution_count": 8,
   "id": "b28adc96-ea9c-415f-895e-b3d9eeba24b6",
   "metadata": {},
   "outputs": [],
   "source": [
    "# 启动Bot\n",
    "bot.polling()"
   ]
  },
  {
   "cell_type": "code",
   "execution_count": null,
   "id": "8bf3b50c-c3e7-4b58-a837-b44a4fe0c1cb",
   "metadata": {},
   "outputs": [],
   "source": []
  },
  {
   "cell_type": "code",
   "execution_count": null,
   "id": "f9b1e26f-2727-40b8-932e-f899ab486ab3",
   "metadata": {},
   "outputs": [],
   "source": []
  },
  {
   "cell_type": "code",
   "execution_count": null,
   "id": "6e2eb02e-b4cf-4202-9399-bca1eeae88df",
   "metadata": {},
   "outputs": [],
   "source": []
  },
  {
   "cell_type": "code",
   "execution_count": null,
   "id": "0389f41a-27f6-42df-a380-857648a90cda",
   "metadata": {},
   "outputs": [],
   "source": []
  },
  {
   "cell_type": "code",
   "execution_count": null,
   "id": "cb05cfbe-4656-4881-8351-efac37ed8fdd",
   "metadata": {},
   "outputs": [],
   "source": [
    "# test\n",
    "# from langchain_pinecone import PineconeVectorStore\n",
    "\n",
    "# namespace = \"Computer_Science\"\n",
    "# vector_store = PineconeVectorStore(index=index, namespace=namespace, embedding=embeddings)\n",
    "\n",
    "# results = vector_store.similarity_search_with_score(\n",
    "#     \"脉冲神经网络是什么?\", \n",
    "#     k=1\n",
    "# )\n",
    "# for res, score in results:\n",
    "#     print(f\"* [SIM={score:3f}] {res.page_content} [{res.metadata}]\")"
   ]
  },
  {
   "cell_type": "code",
   "execution_count": null,
   "id": "d8fc4ad4-4b7c-4f0d-81dd-9f84cd272fef",
   "metadata": {},
   "outputs": [],
   "source": []
  },
  {
   "cell_type": "code",
   "execution_count": null,
   "id": "59059f79-58ff-4d77-be9f-5bef0b915367",
   "metadata": {},
   "outputs": [],
   "source": []
  }
 ],
 "metadata": {
  "kernelspec": {
   "display_name": "Python 3 (ipykernel)",
   "language": "python",
   "name": "python3"
  },
  "language_info": {
   "codemirror_mode": {
    "name": "ipython",
    "version": 3
   },
   "file_extension": ".py",
   "mimetype": "text/x-python",
   "name": "python",
   "nbconvert_exporter": "python",
   "pygments_lexer": "ipython3",
   "version": "3.8.19"
  }
 },
 "nbformat": 4,
 "nbformat_minor": 5
}
