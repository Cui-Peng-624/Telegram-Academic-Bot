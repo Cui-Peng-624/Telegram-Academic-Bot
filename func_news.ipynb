{
 "cells": [
  {
   "cell_type": "markdown",
   "id": "b034ae0f-fc57-43dd-94d4-c3d72a12e663",
   "metadata": {},
   "source": [
    "# 使用Firecrawl"
   ]
  },
  {
   "cell_type": "code",
   "execution_count": null,
   "id": "e9802de8-ff39-41bb-b6b9-5e97c89e4399",
   "metadata": {},
   "outputs": [],
   "source": [
    "import os\n",
    "os.environ[\"http_proxy\"]=\"127.0.0.1:7890\"\n",
    "os.environ[\"https_proxy\"]=\"127.0.0.1:7890\""
   ]
  },
  {
   "cell_type": "code",
   "execution_count": null,
   "id": "8c10658c-27ed-4afd-a97a-35bf9f8ccbbb",
   "metadata": {},
   "outputs": [],
   "source": [
    "from openai import OpenAI\n",
    "\n",
    "# 官方API\n",
    "# client = OpenAI()\n",
    "\n",
    "# 第三方低价API\n",
    "api_key = \"\"\n",
    "api_base = \"\"\n",
    "client = OpenAI(api_key=api_key, base_url=api_base)"
   ]
  },
  {
   "cell_type": "code",
   "execution_count": null,
   "id": "0e92d113-a047-4eff-a264-0cdf95e8c842",
   "metadata": {},
   "outputs": [],
   "source": [
    "import telebot\n",
    "\n",
    "BOT_TOKEN = \"\"\n",
    "bot = telebot.TeleBot(BOT_TOKEN)"
   ]
  },
  {
   "cell_type": "code",
   "execution_count": null,
   "id": "21271db2-8ee0-4c09-a93d-c3e30c44ef20",
   "metadata": {},
   "outputs": [],
   "source": [
    "@bot.message_handler(commands=['query_news'])\n",
    "def 实时查询(message):\n",
    "    pass"
   ]
  },
  {
   "cell_type": "code",
   "execution_count": null,
   "id": "0336631c-2d7d-4401-a05f-072a3703140c",
   "metadata": {},
   "outputs": [],
   "source": [
    "from firecrawl import FirecrawlApp\n",
    "\n",
    "app = FirecrawlApp(api_key=\"fc-YOUR_API_KEY\")\n",
    "\n",
    "# Crawl a website:\n",
    "crawl_status = app.crawl_url(\n",
    "  'https://firecrawl.dev', \n",
    "  params={\n",
    "    'limit': 100, \n",
    "    'scrapeOptions': {'formats': ['markdown', 'html']}\n",
    "  },\n",
    "  poll_interval=30\n",
    ")\n",
    "print(crawl_status)"
   ]
  },
  {
   "cell_type": "markdown",
   "id": "d719986e-5a9c-4a3c-9465-5a851e504d03",
   "metadata": {},
   "source": [
    "https://so.news.cn/#search/0/%E4%B9%A0%E8%BF%91%E5%B9%B3/1/0"
   ]
  },
  {
   "cell_type": "markdown",
   "id": "475f9e33-6c0c-4a73-a1ea-52ab4bd4dd98",
   "metadata": {},
   "source": [
    "# 调用 Perplexity API"
   ]
  },
  {
   "cell_type": "code",
   "execution_count": 1,
   "id": "d1f05cc1-3a41-44ed-a2a2-5087c2facb3b",
   "metadata": {},
   "outputs": [],
   "source": [
    "import os\n",
    "os.environ[\"http_proxy\"]=\"127.0.0.1:7890\"\n",
    "os.environ[\"https_proxy\"]=\"127.0.0.1:7890\""
   ]
  },
  {
   "cell_type": "code",
   "execution_count": 2,
   "id": "af2ced6f-6cfc-4d32-a58a-1bbf368ac3f9",
   "metadata": {},
   "outputs": [],
   "source": [
    "from openai import OpenAI\n",
    "\n",
    "# 官方API\n",
    "# client = OpenAI()\n",
    "\n",
    "# 第三方低价API\n",
    "api_key = \"\"\n",
    "api_base = \"\"\n",
    "client = OpenAI(api_key=api_key, base_url=api_base)"
   ]
  },
  {
   "cell_type": "code",
   "execution_count": 3,
   "id": "81d49c1c-fa8a-4727-bba9-887f389de6a0",
   "metadata": {},
   "outputs": [],
   "source": [
    "import telebot\n",
    "\n",
    "BOT_TOKEN = \"\"\n",
    "bot = telebot.TeleBot(BOT_TOKEN)"
   ]
  },
  {
   "cell_type": "code",
   "execution_count": 4,
   "id": "93c9ed57-355a-4c4c-9522-ef9f03ef7e3b",
   "metadata": {},
   "outputs": [],
   "source": [
    "@bot.message_handler(commands=['news'])\n",
    "def initiate_query_news(message):\n",
    "    text = \"您需要查询什么最新的新闻？\"\n",
    "    sent_msg = bot.send_message(message.chat.id, text, parse_mode=\"Markdown\")\n",
    "    bot.register_next_step_handler(sent_msg, process_news_query)  # 修改函数名称"
   ]
  },
  {
   "cell_type": "code",
   "execution_count": 5,
   "id": "ecfcc238-64bc-4eb9-88e6-bbe7e497b2b8",
   "metadata": {},
   "outputs": [],
   "source": [
    "import requests\n",
    "import json\n",
    "\n",
    "def query_perplexity(user_request):\n",
    "    url = \"https://api.perplexity.ai/chat/completions\"\n",
    "    \n",
    "    # 在用户请求后追加一句话请求返回来源\n",
    "    user_request_with_source = user_request + \" Please include the source URL of the news.\"\n",
    "    \n",
    "    payload = {\n",
    "        \"model\": \"llama-3.1-sonar-small-128k-online\",\n",
    "        \"messages\": [\n",
    "            {\n",
    "                \"role\": \"system\",\n",
    "                \"content\": \"Provide a concise and factual response, with clear and precise information.\"\n",
    "            },\n",
    "            {\n",
    "                \"role\": \"user\",\n",
    "                \"content\": user_request_with_source  # 动态使用用户请求，并请求来源\n",
    "            }\n",
    "        ],\n",
    "        \"max_tokens\": 4000,\n",
    "        \"temperature\": 0.2,\n",
    "        \"top_p\": 0.9,\n",
    "        \"return_citations\": True,  # 启用返回引用\n",
    "        \"search_domain_filter\": [\"perplexity.ai\"],\n",
    "        \"return_images\": False,\n",
    "        \"return_related_questions\": False,\n",
    "        \"search_recency_filter\": \"month\",\n",
    "        \"top_k\": 0,\n",
    "        \"stream\": False,\n",
    "        \"presence_penalty\": 0,\n",
    "        \"frequency_penalty\": 1\n",
    "    }\n",
    "    \n",
    "    headers = {\n",
    "        \"Authorization\": \"Bearer <token>\",  # 替换为你的token\n",
    "        \"Content-Type\": \"application/json\"\n",
    "    }\n",
    "    \n",
    "    response = requests.request(\"POST\", url, json=payload, headers=headers)\n",
    "    \n",
    "    # 检查响应状态\n",
    "    if response.status_code == 200:\n",
    "        data = json.loads(response.text)\n",
    "        content = data['choices'][0]['message']['content']\n",
    "        return content  # 返回API的回答\n",
    "    else:\n",
    "        return f\"Error: {response.status_code} - {response.text}\"  # 返回错误信息"
   ]
  },
  {
   "cell_type": "code",
   "execution_count": 8,
   "id": "c6a32297-ed76-489c-abb4-8efde32aefd1",
   "metadata": {},
   "outputs": [],
   "source": [
    "# test query_perplexity\n",
    "# user_request = \"what is the latest Xi Jinping News?\"\n",
    "# answer = query_perplexity(user_request)\n",
    "# print(answer)"
   ]
  },
  {
   "cell_type": "code",
   "execution_count": null,
   "id": "253aca47-39a0-4dbb-b4e5-aac1f4120255",
   "metadata": {},
   "outputs": [],
   "source": [
    "# 修改函数名称，并处理输入请求\n",
    "def process_news_query(message): \n",
    "    user_request = message.text\n",
    "    perplexity_answer = query_perplexity(user_request)\n",
    "    bot.send_message(message.chat.id, perplexity_answer, parse_mode=\"Markdown\")\n",
    "    end_message = \"本次查询结束。如想重新查询，请输入“/query_news”。\"\n",
    "    bot.send_message(message.chat.id, end_message, parse_mode=None)"
   ]
  },
  {
   "cell_type": "markdown",
   "id": "c34dd63c-1872-46ef-8864-88436cbe47fd",
   "metadata": {},
   "source": [
    "### 似乎还是无法返回新闻的来源，但问题不是很大"
   ]
  },
  {
   "cell_type": "code",
   "execution_count": null,
   "id": "e2d651e5-9a93-4231-9cea-a6582d00c8cc",
   "metadata": {},
   "outputs": [],
   "source": [
    "# bot.infinity_polling()\n",
    "bot.polling()"
   ]
  },
  {
   "cell_type": "code",
   "execution_count": null,
   "id": "85794ef7-0b7a-47d8-8de0-36a277852d6c",
   "metadata": {},
   "outputs": [],
   "source": []
  },
  {
   "cell_type": "code",
   "execution_count": null,
   "id": "342fc554-2d92-4aba-8d80-68e01b075e4b",
   "metadata": {},
   "outputs": [],
   "source": []
  },
  {
   "cell_type": "code",
   "execution_count": null,
   "id": "bf4b472f-75b1-4383-83cf-f68b8385e8d9",
   "metadata": {},
   "outputs": [],
   "source": []
  }
 ],
 "metadata": {
  "kernelspec": {
   "display_name": "Python 3 (ipykernel)",
   "language": "python",
   "name": "python3"
  },
  "language_info": {
   "codemirror_mode": {
    "name": "ipython",
    "version": 3
   },
   "file_extension": ".py",
   "mimetype": "text/x-python",
   "name": "python",
   "nbconvert_exporter": "python",
   "pygments_lexer": "ipython3",
   "version": "3.8.19"
  }
 },
 "nbformat": 4,
 "nbformat_minor": 5
}
