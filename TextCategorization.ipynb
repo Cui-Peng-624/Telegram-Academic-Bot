{
 "cells": [
  {
   "cell_type": "code",
   "execution_count": 1,
   "id": "fbc4a568-4d78-48ef-aba1-63fafa9100b3",
   "metadata": {},
   "outputs": [],
   "source": [
    "import os\n",
    "os.environ[\"http_proxy\"]=\"127.0.0.1:7890\"\n",
    "os.environ[\"https_proxy\"]=\"127.0.0.1:7890\""
   ]
  },
  {
   "cell_type": "code",
   "execution_count": 2,
   "id": "9e9e1f62-cfea-434a-9de8-0dc1344d98c3",
   "metadata": {},
   "outputs": [],
   "source": [
    "from openai import OpenAI\n",
    "\n",
    "api_key = \"\"\n",
    "api_base = \"\"\n",
    "client = OpenAI(api_key=api_key, base_url=api_base)\n",
    "\n",
    "dialogue_model = \"gpt-4o-mini\" # \"gpt-3.5-turbo\"\n",
    "embed_model = 'text-embedding-3-large' # 嵌入用个贵的"
   ]
  },
  {
   "cell_type": "code",
   "execution_count": 3,
   "id": "ae3e7be3-38fe-4f2e-9937-edfb5d008121",
   "metadata": {},
   "outputs": [],
   "source": [
    "import tiktoken\n",
    "\n",
    "# 初始化encoding\n",
    "encoding = tiktoken.get_encoding(\"cl100k_base\")"
   ]
  },
  {
   "cell_type": "code",
   "execution_count": 4,
   "id": "15ef4ef6-df7d-40b9-8189-a796a088486c",
   "metadata": {},
   "outputs": [
    {
     "data": {
      "text/html": [
       "<div>\n",
       "<style scoped>\n",
       "    .dataframe tbody tr th:only-of-type {\n",
       "        vertical-align: middle;\n",
       "    }\n",
       "\n",
       "    .dataframe tbody tr th {\n",
       "        vertical-align: top;\n",
       "    }\n",
       "\n",
       "    .dataframe thead th {\n",
       "        text-align: right;\n",
       "    }\n",
       "</style>\n",
       "<table border=\"1\" class=\"dataframe\">\n",
       "  <thead>\n",
       "    <tr style=\"text-align: right;\">\n",
       "      <th></th>\n",
       "      <th>text</th>\n",
       "      <th>label</th>\n",
       "    </tr>\n",
       "  </thead>\n",
       "  <tbody>\n",
       "    <tr>\n",
       "      <th>0</th>\n",
       "      <td>I need to retrieve 10 papers on the impact of ...</td>\n",
       "      <td>Education</td>\n",
       "    </tr>\n",
       "    <tr>\n",
       "      <th>1</th>\n",
       "      <td>Please find 10 papers on online learning effec...</td>\n",
       "      <td>Education</td>\n",
       "    </tr>\n",
       "    <tr>\n",
       "      <th>2</th>\n",
       "      <td>Can you get 10 papers about the role of assess...</td>\n",
       "      <td>Education</td>\n",
       "    </tr>\n",
       "    <tr>\n",
       "      <th>3</th>\n",
       "      <td>Investigate the relationship between socioecon...</td>\n",
       "      <td>Education</td>\n",
       "    </tr>\n",
       "    <tr>\n",
       "      <th>4</th>\n",
       "      <td>I'm interested in 8 papers on the implementati...</td>\n",
       "      <td>Education</td>\n",
       "    </tr>\n",
       "  </tbody>\n",
       "</table>\n",
       "</div>"
      ],
      "text/plain": [
       "                                                text      label\n",
       "0  I need to retrieve 10 papers on the impact of ...  Education\n",
       "1  Please find 10 papers on online learning effec...  Education\n",
       "2  Can you get 10 papers about the role of assess...  Education\n",
       "3  Investigate the relationship between socioecon...  Education\n",
       "4  I'm interested in 8 papers on the implementati...  Education"
      ]
     },
     "execution_count": 4,
     "metadata": {},
     "output_type": "execute_result"
    }
   ],
   "source": [
    "import pandas as pd\n",
    "\n",
    "# 加载数据\n",
    "data = pd.read_csv('data/training_data.csv')\n",
    "data.head(5)"
   ]
  },
  {
   "cell_type": "markdown",
   "id": "6a407991-2287-4d8f-be47-f4d3fd493f0a",
   "metadata": {},
   "source": [
    "# 看下text列转化成token之后的长度来决定max_len"
   ]
  },
  {
   "cell_type": "code",
   "execution_count": 5,
   "id": "83e3cf61-3918-4d75-8021-a44152e7067e",
   "metadata": {},
   "outputs": [
    {
     "name": "stdout",
     "output_type": "stream",
     "text": [
      "{'max_len': 42, 'min_len': 13, 'mean_len': 22.866, 'median_len': 22.0, 'q1': 20.0, 'q3': 25.0}\n"
     ]
    }
   ],
   "source": [
    "import re\n",
    "import numpy as np\n",
    "\n",
    "# 先看看所有数据中的token数的分布\n",
    "encoding = tiktoken.encoding_for_model(embed_model) # 实例化\n",
    "\n",
    "# 数据预处理函数\n",
    "def preprocess_text(text):\n",
    "    # 去掉标点符号\n",
    "    text = re.sub(r'[^\\w\\s]', '', text)\n",
    "    # 转为小写\n",
    "    text = text.lower()\n",
    "    # 编码文本\n",
    "    tokens = encoding.encode(text)\n",
    "    return tokens\n",
    "\n",
    "# 应用预处理函数\n",
    "data['tokens'] = data['text'].apply(preprocess_text)\n",
    "\n",
    "# 计算统计信息的函数\n",
    "def calculate_token_statistics(tokens_list):\n",
    "    # 计算每行tokens的长度\n",
    "    token_lengths = [len(tokens) for tokens in tokens_list]\n",
    "    \n",
    "    # 统计信息\n",
    "    max_len = np.max(token_lengths)\n",
    "    min_len = np.min(token_lengths)\n",
    "    mean_len = np.mean(token_lengths)\n",
    "    median_len = np.median(token_lengths)\n",
    "    q1 = np.percentile(token_lengths, 25)\n",
    "    q3 = np.percentile(token_lengths, 75)\n",
    "    \n",
    "    stats = {\n",
    "        'max_len': max_len,\n",
    "        'min_len': min_len,\n",
    "        'mean_len': mean_len,\n",
    "        'median_len': median_len,\n",
    "        'q1': q1,\n",
    "        'q3': q3\n",
    "    }\n",
    "    \n",
    "    return stats\n",
    "\n",
    "# 计算统计信息\n",
    "tokens_list = data['tokens'].tolist()\n",
    "stats = calculate_token_statistics(tokens_list)\n",
    "\n",
    "print(stats)"
   ]
  },
  {
   "cell_type": "markdown",
   "id": "2c0324fd-7a2c-43ef-af1f-d5ab2c2d9b01",
   "metadata": {},
   "source": [
    "# training_data的q3为25 -> 所以我们选择30"
   ]
  },
  {
   "cell_type": "code",
   "execution_count": 6,
   "id": "d71b6ecd-3ab7-4fd2-9287-883814b3eb64",
   "metadata": {},
   "outputs": [],
   "source": [
    "# 定义最大长度\n",
    "max_len = 30"
   ]
  },
  {
   "cell_type": "code",
   "execution_count": 7,
   "id": "8bb9c88d-67b5-4e40-8685-732c9b5c64ae",
   "metadata": {},
   "outputs": [
    {
     "data": {
      "text/html": [
       "<div>\n",
       "<style scoped>\n",
       "    .dataframe tbody tr th:only-of-type {\n",
       "        vertical-align: middle;\n",
       "    }\n",
       "\n",
       "    .dataframe tbody tr th {\n",
       "        vertical-align: top;\n",
       "    }\n",
       "\n",
       "    .dataframe thead th {\n",
       "        text-align: right;\n",
       "    }\n",
       "</style>\n",
       "<table border=\"1\" class=\"dataframe\">\n",
       "  <thead>\n",
       "    <tr style=\"text-align: right;\">\n",
       "      <th></th>\n",
       "      <th>text</th>\n",
       "      <th>label</th>\n",
       "      <th>tokens</th>\n",
       "      <th>letters</th>\n",
       "    </tr>\n",
       "  </thead>\n",
       "  <tbody>\n",
       "    <tr>\n",
       "      <th>0</th>\n",
       "      <td>I need to retrieve 10 papers on the impact of ...</td>\n",
       "      <td>Education</td>\n",
       "      <td>[72, 1205, 311, 17622, 220, 605, 16064, 389, 2...</td>\n",
       "      <td>[i,  need,  to,  retrieve,  , 10,  papers,  on...</td>\n",
       "    </tr>\n",
       "    <tr>\n",
       "      <th>1</th>\n",
       "      <td>Please find 10 papers on online learning effec...</td>\n",
       "      <td>Education</td>\n",
       "      <td>[31121, 1505, 220, 605, 16064, 389, 2930, 6975...</td>\n",
       "      <td>[please,  find,  , 10,  papers,  on,  online, ...</td>\n",
       "    </tr>\n",
       "    <tr>\n",
       "      <th>2</th>\n",
       "      <td>Can you get 10 papers about the role of assess...</td>\n",
       "      <td>Education</td>\n",
       "      <td>[4919, 499, 636, 220, 605, 16064, 922, 279, 35...</td>\n",
       "      <td>[can,  you,  get,  , 10,  papers,  about,  the...</td>\n",
       "    </tr>\n",
       "    <tr>\n",
       "      <th>3</th>\n",
       "      <td>Investigate the relationship between socioecon...</td>\n",
       "      <td>Education</td>\n",
       "      <td>[43114, 65056, 279, 5133, 1990, 80431, 2704, 3...</td>\n",
       "      <td>[invest, igate,  the,  relationship,  between,...</td>\n",
       "    </tr>\n",
       "    <tr>\n",
       "      <th>4</th>\n",
       "      <td>I'm interested in 8 papers on the implementati...</td>\n",
       "      <td>Education</td>\n",
       "      <td>[318, 8173, 304, 220, 23, 16064, 389, 279, 829...</td>\n",
       "      <td>[im,  interested,  in,  , 8,  papers,  on,  th...</td>\n",
       "    </tr>\n",
       "  </tbody>\n",
       "</table>\n",
       "</div>"
      ],
      "text/plain": [
       "                                                text      label  \\\n",
       "0  I need to retrieve 10 papers on the impact of ...  Education   \n",
       "1  Please find 10 papers on online learning effec...  Education   \n",
       "2  Can you get 10 papers about the role of assess...  Education   \n",
       "3  Investigate the relationship between socioecon...  Education   \n",
       "4  I'm interested in 8 papers on the implementati...  Education   \n",
       "\n",
       "                                              tokens  \\\n",
       "0  [72, 1205, 311, 17622, 220, 605, 16064, 389, 2...   \n",
       "1  [31121, 1505, 220, 605, 16064, 389, 2930, 6975...   \n",
       "2  [4919, 499, 636, 220, 605, 16064, 922, 279, 35...   \n",
       "3  [43114, 65056, 279, 5133, 1990, 80431, 2704, 3...   \n",
       "4  [318, 8173, 304, 220, 23, 16064, 389, 279, 829...   \n",
       "\n",
       "                                             letters  \n",
       "0  [i,  need,  to,  retrieve,  , 10,  papers,  on...  \n",
       "1  [please,  find,  , 10,  papers,  on,  online, ...  \n",
       "2  [can,  you,  get,  , 10,  papers,  about,  the...  \n",
       "3  [invest, igate,  the,  relationship,  between,...  \n",
       "4  [im,  interested,  in,  , 8,  papers,  on,  th...  "
      ]
     },
     "execution_count": 7,
     "metadata": {},
     "output_type": "execute_result"
    }
   ],
   "source": [
    "# 先看看所有数据中的token数的分布\n",
    "encoding = tiktoken.encoding_for_model(embed_model) # 实例化\n",
    "\n",
    "# 数据预处理函数\n",
    "def preprocess_text(text):\n",
    "    # 去掉标点符号\n",
    "    text = re.sub(r'[^\\w\\s]', '', text)\n",
    "    # 转为小写\n",
    "    text = text.lower()\n",
    "    # 编码文本\n",
    "    tokens = encoding.encode(text)\n",
    "    return tokens\n",
    "\n",
    "# 将tokens转化为字母的函数\n",
    "def tokens_to_letters(tokens):\n",
    "    letters = [encoding.decode_single_token_bytes(token).decode('utf-8') for token in tokens]\n",
    "    return letters\n",
    "\n",
    "# 应用预处理函数和字母转化函数\n",
    "data['tokens'] = data['text'].apply(preprocess_text)\n",
    "data['letters'] = data['tokens'].apply(tokens_to_letters)\n",
    "\n",
    "data.head(5)"
   ]
  },
  {
   "cell_type": "code",
   "execution_count": 8,
   "id": "50e3119e-e1ca-41bb-b7e6-4669cfc5c7c4",
   "metadata": {},
   "outputs": [
    {
     "name": "stdout",
     "output_type": "stream",
     "text": [
      "3072\n"
     ]
    }
   ],
   "source": [
    "import pickle\n",
    "from collections import defaultdict\n",
    "\n",
    "# 保存embedding_cache到文件\n",
    "def save_embedding_cache(cache, filename='embedding_cache.pkl'):\n",
    "    # 转换为普通的dict\n",
    "    cache_dict = dict(cache)\n",
    "    with open(filename, 'wb') as f:\n",
    "        pickle.dump(cache_dict, f)\n",
    "\n",
    "# 从文件加载embedding_cache\n",
    "def load_embedding_cache(filename='embedding_cache.pkl'):\n",
    "    with open(filename, 'rb') as f:\n",
    "        cache_dict = pickle.load(f)\n",
    "    # 重新构建defaultdict并设置默认值\n",
    "    cache = defaultdict(lambda: None, cache_dict)\n",
    "    return cache\n",
    "\n",
    "# 缓存字母嵌入向量的字典\n",
    "# embedding_cache = defaultdict(lambda: None)\n",
    "\n",
    "# 加载embedding_cache\n",
    "embedding_cache = load_embedding_cache()\n",
    "print(len(embedding_cache[\"please\"]))"
   ]
  },
  {
   "cell_type": "code",
   "execution_count": 9,
   "id": "041b3982-a340-4eaa-a295-dde7f0aa88b6",
   "metadata": {},
   "outputs": [
    {
     "name": "stdout",
     "output_type": "stream",
     "text": [
      "Elapsed time: 28.979148864746094 seconds\n"
     ]
    }
   ],
   "source": [
    "import time\n",
    "import torch\n",
    "\n",
    "# 开始计时\n",
    "start_time = time.time()\n",
    "\n",
    "# 获取单个字母嵌入的函数\n",
    "def get_single_letter_embedding(letter):\n",
    "    if embedding_cache[letter] is not None:\n",
    "        return embedding_cache[letter]\n",
    "    \n",
    "    response = client.embeddings.create(input=letter, model=embed_model)\n",
    "    embedding = response.data[0].embedding\n",
    "    embedding_cache[letter] = embedding\n",
    "    return embedding\n",
    "\n",
    "# 获取句子嵌入的函数\n",
    "def get_sentence_embedding(letters, max_len):\n",
    "    embeddings = [get_single_letter_embedding(letter) for letter in letters]\n",
    "    embeddings = torch.tensor(embeddings)\n",
    "\n",
    "    # 填充或截断\n",
    "    if embeddings.shape[0] < max_len:\n",
    "        padding = torch.zeros((max_len - embeddings.shape[0], embeddings.shape[1]))\n",
    "        embeddings = torch.cat((embeddings, padding), dim=0)\n",
    "    else:\n",
    "        embeddings = embeddings[:max_len]\n",
    "\n",
    "    return embeddings\n",
    "\n",
    "# 获取嵌入向量并填充或截断为同样长度的张量\n",
    "data['embeddings'] = data['letters'].apply(lambda x: get_sentence_embedding(x, max_len))\n",
    "\n",
    "# 结束计时\n",
    "end_time = time.time()\n",
    "# 计算时间差\n",
    "elapsed_time = end_time - start_time\n",
    "print(f\"Elapsed time: {elapsed_time} seconds\")\n",
    "\n",
    "# 打印处理后的数据\n",
    "data.head(5)\n",
    "\n",
    "# 如果需要保存处理后的数据\n",
    "data.to_csv('data/processed_training_data.csv', index=False)\n",
    "\n",
    "# 保存embedding_cache\n",
    "save_embedding_cache(embedding_cache)"
   ]
  },
  {
   "cell_type": "code",
   "execution_count": 10,
   "id": "67ddf588-325d-473d-a4e1-08a2930b7712",
   "metadata": {},
   "outputs": [
    {
     "name": "stdout",
     "output_type": "stream",
     "text": [
      "torch.Size([1500, 30, 3072])\n"
     ]
    }
   ],
   "source": [
    "# 转化为模型的输出张量\n",
    "embeddings_tensor = torch.stack(data['embeddings'].tolist())\n",
    "\n",
    "# 打印处理后的数据\n",
    "print(embeddings_tensor.shape)  # 打印张量的形状\n",
    "# print(embeddings_tensor)"
   ]
  },
  {
   "cell_type": "code",
   "execution_count": 11,
   "id": "e67bea81-71b1-4227-b952-661431e5ce31",
   "metadata": {},
   "outputs": [
    {
     "data": {
      "text/plain": [
       "(1500, tensor([0, 0, 0,  ..., 4, 4, 4]))"
      ]
     },
     "execution_count": 11,
     "metadata": {},
     "output_type": "execute_result"
    }
   ],
   "source": [
    "label_encoder = {label: idx for idx, label in enumerate(data['label'].unique())}\n",
    "data['label'] = data['label'].map(label_encoder)\n",
    "labels_tensor = torch.tensor(data['label'].values)\n",
    "len(labels_tensor), labels_tensor"
   ]
  },
  {
   "cell_type": "code",
   "execution_count": 12,
   "id": "b2d028c0-4bb7-4de8-9e4d-8b1375c261c4",
   "metadata": {},
   "outputs": [
    {
     "name": "stdout",
     "output_type": "stream",
     "text": [
      "Train loader batch count: 17\n",
      "Test loader batch count: 8\n"
     ]
    }
   ],
   "source": [
    "from torch.utils.data import Dataset, DataLoader, random_split\n",
    "\n",
    "# 定义数据集类\n",
    "class TextEmbeddingDataset(Dataset):\n",
    "    def __init__(self, embeddings, labels):\n",
    "        self.embeddings = embeddings\n",
    "        self.labels = labels\n",
    "\n",
    "    def __len__(self):\n",
    "        return len(self.embeddings)\n",
    "\n",
    "    def __getitem__(self, idx):\n",
    "        return {\n",
    "            'embeddings': self.embeddings[idx],\n",
    "            'labels': self.labels[idx]\n",
    "        }\n",
    "\n",
    "# 创建数据集\n",
    "dataset = TextEmbeddingDataset(embeddings_tensor, labels_tensor)\n",
    "\n",
    "# 划分训练集和测试集\n",
    "total_size = len(dataset)\n",
    "train_size = int(total_size * 0.7)\n",
    "test_size = total_size - train_size\n",
    "train_dataset, test_dataset = random_split(dataset, [train_size, test_size])\n",
    "\n",
    "# 创建数据加载器\n",
    "batch_size = 64\n",
    "train_loader = DataLoader(train_dataset, batch_size=batch_size, shuffle=True)\n",
    "test_loader = DataLoader(test_dataset, batch_size=batch_size)\n",
    "\n",
    "# 打印数据加载器的批次数\n",
    "print(f'Train loader batch count: {len(train_loader)}')\n",
    "print(f'Test loader batch count: {len(test_loader)}')"
   ]
  },
  {
   "cell_type": "code",
   "execution_count": 13,
   "id": "38936605-a59a-48dd-a177-c5e335ae7394",
   "metadata": {},
   "outputs": [
    {
     "name": "stdout",
     "output_type": "stream",
     "text": [
      "torch.Size([64, 30, 3072]) \n",
      " torch.Size([64])\n"
     ]
    }
   ],
   "source": [
    "for loader in train_loader:\n",
    "    embeddings = loader[\"embeddings\"]\n",
    "    labels = loader[\"labels\"]\n",
    "    print(embeddings.shape, \"\\n\", labels.shape)\n",
    "    # print(embeddings)\n",
    "    break"
   ]
  },
  {
   "cell_type": "markdown",
   "id": "5392afba-ac8e-4a62-a77b-1bad7b39c116",
   "metadata": {},
   "source": [
    "# 1.TextCNN"
   ]
  },
  {
   "cell_type": "code",
   "execution_count": 14,
   "id": "46757856-b7fd-4549-8dcb-3b4c042fb06a",
   "metadata": {},
   "outputs": [],
   "source": [
    "import torch\n",
    "import torch.nn as nn\n",
    "import torch.optim as optim\n",
    "import torch.nn.functional as F\n",
    "import torchvision"
   ]
  },
  {
   "cell_type": "code",
   "execution_count": 15,
   "id": "74584105-a759-4cca-ad5a-bac1fd7a57ec",
   "metadata": {},
   "outputs": [
    {
     "name": "stdout",
     "output_type": "stream",
     "text": [
      "Using device: cuda\n"
     ]
    }
   ],
   "source": [
    "# Set device\n",
    "device = torch.device('cuda' if torch.cuda.is_available() else 'cpu')\n",
    "print(f\"Using device: {device}\")"
   ]
  },
  {
   "cell_type": "code",
   "execution_count": 16,
   "id": "b07c5eed-8f8b-4ed8-97bf-c3c58188dbba",
   "metadata": {},
   "outputs": [],
   "source": [
    "from models.VGGTextCNN import VGGTextCNN\n",
    "\n",
    "# 创建模型实例\n",
    "num_classes = len(data['label'].unique())\n",
    "model = VGGTextCNN(num_classes)\n",
    "model = model.to(device)\n",
    "\n",
    "# 定义损失函数和优化器\n",
    "criterion = nn.CrossEntropyLoss()\n",
    "optimizer = optim.Adam(model.parameters(), lr=0.001)"
   ]
  },
  {
   "cell_type": "code",
   "execution_count": 17,
   "id": "f6f31aaf-01ae-4d3c-887e-f2349d27fd9c",
   "metadata": {},
   "outputs": [],
   "source": [
    "# 训练和评估函数\n",
    "def train_epoch(model, data_loader, criterion, optimizer, device):\n",
    "    model.train()\n",
    "    losses = []\n",
    "    correct_predictions = 0\n",
    "\n",
    "    for batch in data_loader:\n",
    "        embeddings = batch['embeddings'].to(device)\n",
    "        labels = batch['labels'].to(device)\n",
    "\n",
    "        outputs = model(embeddings.unsqueeze(1))  # 增加通道维度\n",
    "        loss = criterion(outputs, labels)\n",
    "        losses.append(loss.item())\n",
    "\n",
    "        _, preds = torch.max(outputs, dim=1)\n",
    "        correct_predictions += torch.sum(preds == labels)\n",
    "\n",
    "        loss.backward()\n",
    "        optimizer.step()\n",
    "        optimizer.zero_grad()\n",
    "\n",
    "    return correct_predictions.double() / len(data_loader.dataset), np.mean(losses)\n",
    "\n",
    "def eval_model(model, data_loader, criterion, device):\n",
    "    model.eval()\n",
    "    losses = []\n",
    "    correct_predictions = 0\n",
    "\n",
    "    with torch.no_grad():\n",
    "        for batch in data_loader:\n",
    "            embeddings = batch['embeddings'].to(device)\n",
    "            labels = batch['labels'].to(device)\n",
    "\n",
    "            outputs = model(embeddings.unsqueeze(1))  # 增加通道维度\n",
    "            loss = criterion(outputs, labels)\n",
    "            losses.append(loss.item())\n",
    "\n",
    "            _, preds = torch.max(outputs, dim=1)\n",
    "            correct_predictions += torch.sum(preds == labels)\n",
    "\n",
    "    return correct_predictions.double() / len(data_loader.dataset), np.mean(losses)"
   ]
  },
  {
   "cell_type": "code",
   "execution_count": 18,
   "id": "0f240f6c-ec07-4836-bbc3-9f10af719d6b",
   "metadata": {},
   "outputs": [
    {
     "data": {
      "image/png": "[encoded data removed]",
      "text/plain": [
       "<Figure size 700x500 with 1 Axes>"
      ]
     },
     "metadata": {},
     "output_type": "display_data"
    }
   ],
   "source": [
    "from visualization import TrainingVisualizer\n",
    "from save_load_checkpoint import save_checkpoint\n",
    "\n",
    "visualizer = TrainingVisualizer(xlabel='Epoch', ylabel='Value', title='Train TextCNN', legend=['training_loss', \"training_acc\", \"testing_loss\", \"testing_acc\"])  \n",
    "\n",
    "# 训练模型\n",
    "num_epochs = 100\n",
    "best_train_acc = 0.0\n",
    "best_val_acc = 0.0  # 初始化最佳验证准确率\n",
    "model_path = 'checkpoints/TextCNN/TextCNN.pth'\n",
    "optimizer_path = 'checkpoints/TextCNN/optimizer.pth'\n",
    "\n",
    "for epoch in range(num_epochs):\n",
    "    train_acc, train_loss = train_epoch(model, train_loader, criterion, optimizer, device)\n",
    "    val_acc, val_loss = eval_model(model, test_loader, criterion, device)\n",
    "    \n",
    "    train_acc = train_acc.cpu().item() if isinstance(train_acc, torch.Tensor) else train_acc\n",
    "    val_acc = val_acc.cpu().item() if isinstance(val_acc, torch.Tensor) else val_acc\n",
    "    \n",
    "    visualizer.add(epoch, [train_loss, train_acc, val_loss, val_acc])\n",
    "\n",
    "    if train_acc > best_train_acc:\n",
    "        best_train_acc = train_acc\n",
    "    \n",
    "    # 保存最佳模型\n",
    "    if val_acc > best_val_acc:\n",
    "        best_val_acc = val_acc\n",
    "        save_checkpoint(model, optimizer, epoch + 1, model_path, optimizer_path)"
   ]
  },
  {
   "cell_type": "code",
   "execution_count": 19,
   "id": "38cc1167-ac94-47af-905f-523aefd8adcd",
   "metadata": {},
   "outputs": [
    {
     "data": {
      "text/plain": [
       "(1.0, 0.9822222222222222)"
      ]
     },
     "execution_count": 19,
     "metadata": {},
     "output_type": "execute_result"
    }
   ],
   "source": [
    "best_train_acc, best_val_acc"
   ]
  },
  {
   "cell_type": "code",
   "execution_count": 20,
   "id": "865414eb-a912-4bec-a3fa-5e398d9a7be0",
   "metadata": {},
   "outputs": [
    {
     "name": "stdout",
     "output_type": "stream",
     "text": [
      "Loaded model and optimizer states from checkpoints/TextCNN/TextCNN.pth and checkpoints/TextCNN/optimizer.pth, starting from epoch 51.\n"
     ]
    },
    {
     "name": "stderr",
     "output_type": "stream",
     "text": [
      "C:\\Users\\20703\\generative-ai-for-beginners\\MyTest\\save_load_checkpoint.py:25: FutureWarning: You are using `torch.load` with `weights_only=False` (the current default value), which uses the default pickle module implicitly. It is possible to construct malicious pickle data which will execute arbitrary code during unpickling (See https://github.com/pytorch/pytorch/blob/main/SECURITY.md#untrusted-models for more details). In a future release, the default value for `weights_only` will be flipped to `True`. This limits the functions that could be executed during unpickling. Arbitrary objects will no longer be allowed to be loaded via this mode unless they are explicitly allowlisted by the user via `torch.serialization.add_safe_globals`. We recommend you start setting `weights_only=True` for any use case where you don't have full control of the loaded file. Please open an issue on GitHub for any issues related to this experimental feature.\n",
      "  checkpoint = torch.load(model_path)\n"
     ]
    }
   ],
   "source": [
    "from save_load_checkpoint import load_checkpoint\n",
    "\n",
    "model_path = 'checkpoints/TextCNN/TextCNN.pth'\n",
    "optimizer_path = 'checkpoints/TextCNN/optimizer.pth'\n",
    "\n",
    "# 加载模型和优化器状态\n",
    "model, optimizer, start_epoch = load_checkpoint(model, optimizer, model_path, optimizer_path)"
   ]
  },
  {
   "cell_type": "markdown",
   "id": "13a78f33-ab7a-4670-99aa-ac818ed6200e",
   "metadata": {},
   "source": [
    "### 接着训练"
   ]
  },
  {
   "cell_type": "code",
   "execution_count": null,
   "id": "188df0aa-230f-4875-92bb-1f5a61874290",
   "metadata": {},
   "outputs": [],
   "source": [
    "num_epochs = 100\n",
    "\n",
    "for epoch in range(num_epochs):\n",
    "    train_acc, train_loss = train_epoch(model, train_loader, criterion, optimizer, device)\n",
    "    val_acc, val_loss = eval_model(model, test_loader, criterion, device)\n",
    "\n",
    "    # print(f'Epoch {epoch + 1}/{num_epochs}')\n",
    "    # print(f'Train loss {train_loss:.4f}, accuracy {train_acc:.4f}')\n",
    "    # print(f'Val loss {val_loss:.4f}, accuracy {val_acc:.4f}')\n",
    "    visualizer.add(epoch+100, [train_loss, train_acc, val_loss, val_acc])"
   ]
  },
  {
   "cell_type": "code",
   "execution_count": null,
   "id": "6dcdf4c4-e869-4dc2-8f42-6685e800d510",
   "metadata": {},
   "outputs": [],
   "source": [
    "train_acc, val_acc"
   ]
  },
  {
   "cell_type": "code",
   "execution_count": null,
   "id": "9f9339d3-e30d-457e-9c5c-1381bf9683d6",
   "metadata": {},
   "outputs": [],
   "source": [
    "model_path = 'checkpoints/TextCNN/TextCNN.pth'\n",
    "optimizer_path = 'checkpoints/TextCNN/optimizer.pth'\n",
    "\n",
    "# 保存模型和优化器状态\n",
    "save_checkpoint(model, optimizer, num_epochs+100, model_path, optimizer_path)"
   ]
  },
  {
   "cell_type": "markdown",
   "id": "3449d88e-f9a8-4357-9a1f-03515c4c1d01",
   "metadata": {},
   "source": [
    "# 2.TextRNN"
   ]
  },
  {
   "cell_type": "code",
   "execution_count": 25,
   "id": "c36618f1-a6c7-4c7b-a3cb-17a4aec1199e",
   "metadata": {},
   "outputs": [],
   "source": [
    "import torch\n",
    "import torch.nn as nn\n",
    "import torch.optim as optim\n",
    "import torch.nn.functional as F\n",
    "import pandas as pd\n",
    "import numpy as np\n",
    "import re\n",
    "import pickle\n",
    "from collections import defaultdict\n",
    "from torch.utils.data import Dataset, DataLoader, random_split\n",
    "from openai import OpenAI\n",
    "import tiktoken\n",
    "import os"
   ]
  },
  {
   "cell_type": "code",
   "execution_count": 28,
   "id": "ad1cf3a2-6ad2-41f1-b5e9-73ec80a53719",
   "metadata": {},
   "outputs": [],
   "source": [
    "from models.TextRNN_GPT import TextRNN"
   ]
  },
  {
   "cell_type": "code",
   "execution_count": 29,
   "id": "4136ca97-0db6-40f6-9861-9d0e36c64c13",
   "metadata": {},
   "outputs": [
    {
     "name": "stdout",
     "output_type": "stream",
     "text": [
      "torch.Size([1500, 30, 3072]) 5\n"
     ]
    }
   ],
   "source": [
    "print(embeddings_tensor.shape, len(label_encoder))"
   ]
  },
  {
   "cell_type": "code",
   "execution_count": 30,
   "id": "e07d2f8f-c04d-406b-9065-42d6d1157c0f",
   "metadata": {},
   "outputs": [],
   "source": [
    "# 设置参数\n",
    "embedding_dim = embeddings_tensor.shape[2]\n",
    "hidden_dim = 128\n",
    "output_dim = len(label_encoder)\n",
    "n_layers = 2\n",
    "bidirectional = True\n",
    "dropout = 0.5\n",
    "\n",
    "# 创建模型实例\n",
    "device = torch.device('cuda' if torch.cuda.is_available() else 'cpu')\n",
    "model = TextRNN(embedding_dim, hidden_dim, output_dim, n_layers, bidirectional, dropout)\n",
    "model = model.to(device)\n",
    "\n",
    "# 定义损失函数和优化器\n",
    "criterion = nn.CrossEntropyLoss()\n",
    "optimizer = optim.Adam(model.parameters(), lr=0.001)"
   ]
  },
  {
   "cell_type": "code",
   "execution_count": 31,
   "id": "001ed679-779e-4838-be78-409c0912c6d9",
   "metadata": {},
   "outputs": [],
   "source": [
    "# 训练和评估函数\n",
    "def train_epoch(model, data_loader, criterion, optimizer, device):\n",
    "    model.train()\n",
    "    losses = []\n",
    "    correct_predictions = 0\n",
    "\n",
    "    for batch in data_loader:\n",
    "        embeddings = batch['embeddings'].to(device)\n",
    "        labels = batch['labels'].to(device)\n",
    "\n",
    "        optimizer.zero_grad()\n",
    "        outputs = model(embeddings)\n",
    "        loss = criterion(outputs, labels)\n",
    "        losses.append(loss.item())\n",
    "\n",
    "        _, preds = torch.max(outputs, dim=1)\n",
    "        correct_predictions += torch.sum(preds == labels)\n",
    "\n",
    "        loss.backward()\n",
    "        optimizer.step()\n",
    "\n",
    "    return correct_predictions.double() / len(data_loader.dataset), np.mean(losses)\n",
    "\n",
    "def eval_model(model, data_loader, criterion, device):\n",
    "    model.eval()\n",
    "    losses = []\n",
    "    correct_predictions = 0\n",
    "\n",
    "    with torch.no_grad():\n",
    "        for batch in data_loader:\n",
    "            embeddings = batch['embeddings'].to(device)\n",
    "            labels = batch['labels'].to(device)\n",
    "\n",
    "            outputs = model(embeddings)\n",
    "            loss = criterion(outputs, labels)\n",
    "            losses.append(loss.item())\n",
    "\n",
    "            _, preds = torch.max(outputs, dim=1)\n",
    "            correct_predictions += torch.sum(preds == labels)\n",
    "\n",
    "    return correct_predictions.double() / len(data_loader.dataset), np.mean(losses)"
   ]
  },
  {
   "cell_type": "code",
   "execution_count": 32,
   "id": "1ba469d0-0115-43a9-8dea-55669861cb89",
   "metadata": {},
   "outputs": [
    {
     "data": {
      "image/png": "[encoded data removed]",
      "text/plain": [
       "<Figure size 700x500 with 1 Axes>"
      ]
     },
     "metadata": {},
     "output_type": "display_data"
    }
   ],
   "source": [
    "from visualization import TrainingVisualizer\n",
    "from save_load_checkpoint import save_checkpoint\n",
    "\n",
    "visualizer = TrainingVisualizer(xlabel='Epoch', ylabel='Value', title='Train TextRNN', legend=['training_loss', \"training_acc\", \"testing_loss\", \"testing_acc\"])  \n",
    "\n",
    "# 训练模型\n",
    "num_epochs = 100\n",
    "best_train_acc = 0.0\n",
    "best_val_acc = 0.0  # 初始化最佳验证准确率\n",
    "model_path = 'checkpoints/TextRNN/TextRNN.pth'\n",
    "optimizer_path = 'checkpoints/TextRNN/optimizer.pth'\n",
    "\n",
    "for epoch in range(num_epochs):\n",
    "    train_acc, train_loss = train_epoch(model, train_loader, criterion, optimizer, device)\n",
    "    val_acc, val_loss = eval_model(model, test_loader, criterion, device)\n",
    "    \n",
    "    train_acc = train_acc.cpu().item() if isinstance(train_acc, torch.Tensor) else train_acc\n",
    "    val_acc = val_acc.cpu().item() if isinstance(val_acc, torch.Tensor) else val_acc\n",
    "    \n",
    "    visualizer.add(epoch, [train_loss, train_acc, val_loss, val_acc])\n",
    "\n",
    "    if train_acc > best_train_acc:\n",
    "        best_train_acc = train_acc\n",
    "    \n",
    "    # 保存最佳模型\n",
    "    if val_acc > best_val_acc:\n",
    "        best_val_acc = val_acc\n",
    "        save_checkpoint(model, optimizer, epoch + 1, model_path, optimizer_path)"
   ]
  },
  {
   "cell_type": "code",
   "execution_count": 33,
   "id": "21d1b805-524e-4bc6-b933-83d345fc0c32",
   "metadata": {},
   "outputs": [
    {
     "data": {
      "text/plain": [
       "(0.9971428571428571, 0.9866666666666667)"
      ]
     },
     "execution_count": 33,
     "metadata": {},
     "output_type": "execute_result"
    }
   ],
   "source": [
    "best_train_acc, best_val_acc"
   ]
  },
  {
   "cell_type": "code",
   "execution_count": 34,
   "id": "9b60b4ac-bf14-4658-9e7f-c870c5f9beac",
   "metadata": {},
   "outputs": [
    {
     "name": "stdout",
     "output_type": "stream",
     "text": [
      "Loaded model and optimizer states from checkpoints/TextRNN/TextRNN.pth and checkpoints/TextRNN/optimizer.pth, starting from epoch 97.\n"
     ]
    }
   ],
   "source": [
    "from save_load_checkpoint import load_checkpoint\n",
    "\n",
    "model_path = 'checkpoints/TextRNN/TextRNN.pth'\n",
    "optimizer_path = 'checkpoints/TextRNN/optimizer.pth'\n",
    "\n",
    "# 加载模型和优化器状态\n",
    "model, optimizer, start_epoch = load_checkpoint(model, optimizer, model_path, optimizer_path)"
   ]
  },
  {
   "cell_type": "markdown",
   "id": "3b1c371f-356d-4eb9-a3d5-09dec3a5389d",
   "metadata": {},
   "source": [
    "# 3.TextRCNN"
   ]
  },
  {
   "cell_type": "code",
   "execution_count": 35,
   "id": "4722664a-fb19-455e-a907-6e1d24de9c6d",
   "metadata": {},
   "outputs": [],
   "source": [
    "import torch\n",
    "import torch.nn as nn\n",
    "import torch.optim as optim\n",
    "import torch.nn.functional as F\n",
    "import pandas as pd\n",
    "import numpy as np\n",
    "import re\n",
    "import pickle\n",
    "from collections import defaultdict\n",
    "from torch.utils.data import Dataset, DataLoader, random_split\n",
    "from openai import OpenAI\n",
    "import tiktoken\n",
    "import os"
   ]
  },
  {
   "cell_type": "code",
   "execution_count": 36,
   "id": "78b43562-16e1-44d4-9f1d-89cbb95e683c",
   "metadata": {},
   "outputs": [],
   "source": [
    "# 定义TextRCNN模型\n",
    "from models.TextRCNN import TextRCNN\n",
    "\n",
    "# 设置参数\n",
    "embedding_dim = embeddings_tensor.shape[2]\n",
    "hidden_dim = 128\n",
    "output_dim = len(label_encoder)\n",
    "n_layers = 2\n",
    "bidirectional = True\n",
    "dropout = 0.5\n",
    "\n",
    "# 创建模型实例\n",
    "device = torch.device('cuda' if torch.cuda.is_available() else 'cpu')\n",
    "model = TextRCNN(max_len, embedding_dim, hidden_dim, output_dim, n_layers, bidirectional, dropout)\n",
    "model = model.to(device)\n",
    "\n",
    "# 定义损失函数和优化器\n",
    "criterion = nn.CrossEntropyLoss()\n",
    "optimizer = optim.Adam(model.parameters(), lr=0.001)"
   ]
  },
  {
   "cell_type": "code",
   "execution_count": 37,
   "id": "db008809-07b4-4cbd-b749-6b0576c36821",
   "metadata": {},
   "outputs": [],
   "source": [
    "# 训练和评估函数\n",
    "def train_epoch(model, data_loader, criterion, optimizer, device):\n",
    "    model.train()\n",
    "    losses = []\n",
    "    correct_predictions = 0\n",
    "\n",
    "    for batch in data_loader:\n",
    "        embeddings = batch['embeddings'].to(device)\n",
    "        labels = batch['labels'].to(device)\n",
    "\n",
    "        optimizer.zero_grad()\n",
    "        outputs = model(embeddings)\n",
    "        loss = criterion(outputs, labels)\n",
    "        losses.append(loss.item())\n",
    "\n",
    "        _, preds = torch.max(outputs, dim=1)\n",
    "        correct_predictions += torch.sum(preds == labels)\n",
    "\n",
    "        loss.backward()\n",
    "        optimizer.step()\n",
    "\n",
    "    return correct_predictions.double() / len(data_loader.dataset), np.mean(losses)\n",
    "\n",
    "def eval_model(model, data_loader, criterion, device):\n",
    "    model.eval()\n",
    "    losses = []\n",
    "    correct_predictions = 0\n",
    "\n",
    "    with torch.no_grad():\n",
    "        for batch in data_loader:\n",
    "            embeddings = batch['embeddings'].to(device)\n",
    "            labels = batch['labels'].to(device)\n",
    "\n",
    "            outputs = model(embeddings)\n",
    "            loss = criterion(outputs, labels)\n",
    "            losses.append(loss.item())\n",
    "\n",
    "            _, preds = torch.max(outputs, dim=1)\n",
    "            correct_predictions += torch.sum(preds == labels)\n",
    "\n",
    "    return correct_predictions.double() / len(data_loader.dataset), np.mean(losses)"
   ]
  },
  {
   "cell_type": "code",
   "execution_count": 38,
   "id": "160b13e4-d3b9-4f66-b682-41b08737f224",
   "metadata": {},
   "outputs": [
    {
     "data": {
      "image/png": "[encoded data removed]",
      "text/plain": [
       "<Figure size 700x500 with 1 Axes>"
      ]
     },
     "metadata": {},
     "output_type": "display_data"
    }
   ],
   "source": [
    "from visualization import TrainingVisualizer\n",
    "from save_load_checkpoint import save_checkpoint\n",
    "\n",
    "visualizer = TrainingVisualizer(xlabel='Epoch', ylabel='Value', title='Train TextRCNN', legend=['training_loss', \"training_acc\", \"testing_loss\", \"testing_acc\"])  \n",
    "\n",
    "# 训练模型\n",
    "num_epochs = 100\n",
    "best_train_acc = 0.0\n",
    "best_val_acc = 0.0  # 初始化最佳验证准确率\n",
    "model_path = 'checkpoints/TextRCNN/TextRCNN.pth'\n",
    "optimizer_path = 'checkpoints/TextRCNN/optimizer.pth'\n",
    "\n",
    "for epoch in range(num_epochs):\n",
    "    train_acc, train_loss = train_epoch(model, train_loader, criterion, optimizer, device)\n",
    "    val_acc, val_loss = eval_model(model, test_loader, criterion, device)\n",
    "    \n",
    "    train_acc = train_acc.cpu().item() if isinstance(train_acc, torch.Tensor) else train_acc\n",
    "    val_acc = val_acc.cpu().item() if isinstance(val_acc, torch.Tensor) else val_acc\n",
    "    \n",
    "    visualizer.add(epoch, [train_loss, train_acc, val_loss, val_acc])\n",
    "\n",
    "    if train_acc > best_train_acc:\n",
    "        best_train_acc = train_acc\n",
    "    \n",
    "    # 保存最佳模型\n",
    "    if val_acc > best_val_acc:\n",
    "        best_val_acc = val_acc\n",
    "        save_checkpoint(model, optimizer, epoch + 1, model_path, optimizer_path)"
   ]
  },
  {
   "cell_type": "code",
   "execution_count": 39,
   "id": "38a0f153-9a5a-48f1-b93b-ded0f9b1acb3",
   "metadata": {},
   "outputs": [
    {
     "data": {
      "text/plain": [
       "(1.0, 0.9888888888888889)"
      ]
     },
     "execution_count": 39,
     "metadata": {},
     "output_type": "execute_result"
    }
   ],
   "source": [
    "train_acc, val_acc"
   ]
  },
  {
   "cell_type": "code",
   "execution_count": 40,
   "id": "e7ad69b9-4bea-4fe3-9687-3a556b7e5be8",
   "metadata": {},
   "outputs": [
    {
     "name": "stdout",
     "output_type": "stream",
     "text": [
      "Loaded model and optimizer states from checkpoints/TextRCNN/TextRCNN.pth and checkpoints/TextRCNN/optimizer.pth, starting from epoch 24.\n"
     ]
    }
   ],
   "source": [
    "from save_load_checkpoint import load_checkpoint\n",
    "\n",
    "model_path = 'checkpoints/TextRCNN/TextRCNN.pth'\n",
    "optimizer_path = 'checkpoints/TextRCNN/optimizer.pth'\n",
    "\n",
    "# 加载模型和优化器状态\n",
    "model, optimizer, start_epoch = load_checkpoint(model, optimizer, model_path, optimizer_path)"
   ]
  },
  {
   "cell_type": "markdown",
   "id": "e371f5b4-af23-4da2-903d-f04b1bbd6597",
   "metadata": {},
   "source": [
    "# 现在对于任意的用户请求，我们需要进行一些转化并输出预测结果和概率"
   ]
  },
  {
   "cell_type": "code",
   "execution_count": null,
   "id": "96efa41b-0296-417f-940f-0ec098c2c822",
   "metadata": {},
   "outputs": [],
   "source": [
    "import pandas as pd\n",
    "import torch\n",
    "import torch.optim as optim\n",
    "import torch.nn.functional as F"
   ]
  },
  {
   "cell_type": "code",
   "execution_count": null,
   "id": "1c3eaa3f-7650-497d-820f-d1e6b32fa9ea",
   "metadata": {},
   "outputs": [],
   "source": [
    "# 检查GPU是否可用\n",
    "device = torch.device(\"cuda\" if torch.cuda.is_available() else \"cpu\")\n",
    "print(f\"Using device: {device}\")"
   ]
  },
  {
   "cell_type": "code",
   "execution_count": null,
   "id": "c64116e6-fef2-4c1c-a0ce-568ee96b7d7d",
   "metadata": {},
   "outputs": [],
   "source": [
    "class VGGTextCNN(nn.Module):\n",
    "    def __init__(self, num_classes):\n",
    "        super(VGGTextCNN, self).__init__()\n",
    "        \n",
    "        # 第一层卷积块\n",
    "        self.conv1_1 = nn.Conv2d(1, 64, kernel_size=(3, 3072))\n",
    "        self.conv1_2 = nn.Conv2d(64, 64, kernel_size=(3, 1))\n",
    "        self.pool1 = nn.MaxPool2d(kernel_size=(2, 1))\n",
    "        \n",
    "        # 第二层卷积块\n",
    "        self.conv2_1 = nn.Conv2d(64, 128, kernel_size=(3, 1))\n",
    "        self.conv2_2 = nn.Conv2d(128, 128, kernel_size=(3, 1))\n",
    "        self.pool2 = nn.MaxPool2d(kernel_size=(2, 1))\n",
    "        \n",
    "        # 第三层卷积块 - seq_size设置为18时，第二层卷积结束已经torch.Size([16, 128, 1, 1])，所以弃用第三个卷积block\n",
    "        # self.conv3_1 = nn.Conv2d(128, 256, kernel_size=(3, 1))\n",
    "        # self.conv3_2 = nn.Conv2d(256, 256, kernel_size=(3, 1))\n",
    "        # self.pool3 = nn.MaxPool2d(kernel_size=(2, 1))\n",
    "        \n",
    "        # 全连接层\n",
    "        self.fc1 = nn.Linear(128, 512)\n",
    "        self.fc2 = nn.Linear(512, 512)\n",
    "        self.fc3 = nn.Linear(512, num_classes)\n",
    "        \n",
    "        self.dropout = nn.Dropout(0.5)\n",
    "\n",
    "    def forward(self, x):\n",
    "        # 输入形状：(batch_size, 1, max_len, 768)\n",
    "        x = F.relu(self.conv1_1(x))\n",
    "        x = F.relu(self.conv1_2(x))\n",
    "        x = self.pool1(x)\n",
    "        # print(\"1:\", x.shape)\n",
    "\n",
    "        x = F.relu(self.conv2_1(x))\n",
    "        x = F.relu(self.conv2_2(x))\n",
    "        x = self.pool2(x)\n",
    "        # print(\"2:\", x.shape)\n",
    "\n",
    "        # x = F.relu(self.conv3_1(x))\n",
    "        # x = F.relu(self.conv3_2(x))\n",
    "        # x = self.pool3(x)\n",
    "        # print(\"3:\", x.shape)\n",
    "\n",
    "        x = x.view(x.size(0), -1)\n",
    "        # print(\"Flatten:\", x.shape)\n",
    "        x = self.dropout(F.relu(self.fc1(x)))\n",
    "        x = self.dropout(F.relu(self.fc2(x)))\n",
    "        x = self.fc3(x)\n",
    "        \n",
    "        return x\n",
    "\n",
    "data = pd.read_csv(\"processed_training_data.csv\")\n",
    "\n",
    "# 创建模型实例\n",
    "num_classes = len(data['label'].unique())\n",
    "model = VGGTextCNN(num_classes)\n",
    "model = model.to(device)\n",
    "\n",
    "# 定义损失函数和优化器\n",
    "criterion = nn.CrossEntropyLoss()\n",
    "optimizer = optim.Adam(model.parameters(), lr=0.001)"
   ]
  },
  {
   "cell_type": "code",
   "execution_count": null,
   "id": "03f1a1fe-413f-44af-ba03-4a372f49c650",
   "metadata": {},
   "outputs": [],
   "source": [
    "model_path = 'checkpoints/TextCNN/TextCNN.pth'\n",
    "optimizer_path = 'checkpoints/TextCNN/optimizer.pth'\n",
    "\n",
    "# 加载模型和优化器状态\n",
    "def load_checkpoint(model, optimizer, model_path, optimizer_path):\n",
    "    checkpoint = torch.load(model_path)\n",
    "    model.load_state_dict(checkpoint['model_state_dict'])\n",
    "    optimizer.load_state_dict(checkpoint['optimizer_state_dict'])\n",
    "    epoch = checkpoint['epoch']\n",
    "    print(f'Loaded model and optimizer states from {model_path} and {optimizer_path}, starting from epoch {epoch}.')\n",
    "    return model, optimizer, epoch\n",
    "    \n",
    "# 加载模型和优化器状态\n",
    "model, optimizer, start_epoch = load_checkpoint(model, optimizer, model_path, optimizer_path)\n",
    "\n",
    "# 加载训练好的模型\n",
    "model = model.to(device)\n",
    "model.eval()"
   ]
  },
  {
   "cell_type": "code",
   "execution_count": null,
   "id": "0a4547a3-4e7e-4ed1-abf5-ce0f43c2f4f5",
   "metadata": {},
   "outputs": [],
   "source": [
    "import os\n",
    "os.environ[\"http_proxy\"]=\"127.0.0.1:7890\"\n",
    "os.environ[\"https_proxy\"]=\"127.0.0.1:7890\""
   ]
  },
  {
   "cell_type": "code",
   "execution_count": null,
   "id": "44282e16-8e85-4a7d-b805-544cf731baa1",
   "metadata": {},
   "outputs": [],
   "source": [
    "from openai import OpenAI\n",
    "\n",
    "api_key = \"sk-FCDYB07IqQG164cC9604D8096d2e4e44B7CdF8684e19A51f\"\n",
    "api_base = \"https://api.zetatechs.com/v1\"\n",
    "client = OpenAI(api_key=api_key, base_url=api_base)\n",
    "\n",
    "dialogue_model = \"gpt-4o-mini\" # \"gpt-3.5-turbo\"\n",
    "embed_model = 'text-embedding-3-large' # 嵌入用个贵的"
   ]
  },
  {
   "cell_type": "code",
   "execution_count": null,
   "id": "ef572cae-682f-442b-9300-7a105366408a",
   "metadata": {},
   "outputs": [],
   "source": [
    "import tiktoken\n",
    "\n",
    "# 初始化encoding\n",
    "encoding = tiktoken.get_encoding(\"cl100k_base\")\n",
    "\n",
    "# 先看看所有数据中的token数的分布\n",
    "encoding = tiktoken.encoding_for_model(embed_model) # 实例化"
   ]
  },
  {
   "cell_type": "code",
   "execution_count": null,
   "id": "f76fdd84-d8a2-4103-ae1b-a160801abdcf",
   "metadata": {},
   "outputs": [],
   "source": [
    "import pickle\n",
    "from collections import defaultdict\n",
    "\n",
    "# 从文件加载embedding_cache\n",
    "def load_embedding_cache(filename='embedding_cache.pkl'):\n",
    "    with open(filename, 'rb') as f:\n",
    "        cache_dict = pickle.load(f)\n",
    "    # 重新构建defaultdict并设置默认值\n",
    "    cache = defaultdict(lambda: None, cache_dict)\n",
    "    return cache\n",
    "    \n",
    "# 加载embedding_cache\n",
    "embedding_cache = load_embedding_cache()"
   ]
  },
  {
   "cell_type": "code",
   "execution_count": null,
   "id": "573f2e3e-019d-451e-b7e0-b63b8d449da1",
   "metadata": {},
   "outputs": [],
   "source": [
    "max_len = 24"
   ]
  },
  {
   "cell_type": "code",
   "execution_count": null,
   "id": "c16deabf-a60c-49b2-92f5-e267ed199a55",
   "metadata": {},
   "outputs": [],
   "source": [
    "import re\n",
    "\n",
    "# 加载label_encoder\n",
    "label_encoder = {label: idx for idx, label in enumerate(data['label'].unique())}\n",
    "idx_to_label = {idx: label for label, idx in label_encoder.items()}\n",
    "\n",
    "# 数据预处理函数\n",
    "def preprocess_user_input(text, max_len):\n",
    "    text = re.sub(r'[^\\w\\s]', '', text)\n",
    "    text = text.lower()\n",
    "    tokens = encoding.encode(text)\n",
    "    letters = [encoding.decode_single_token_bytes(token).decode('utf-8') for token in tokens]\n",
    "    embeddings = [get_single_letter_embedding(letter) for letter in letters]\n",
    "    embeddings = torch.tensor(embeddings)\n",
    "\n",
    "    if embeddings.shape[0] < max_len:\n",
    "        padding = torch.zeros((max_len - embeddings.shape[0], embeddings.shape[1]))\n",
    "        embeddings = torch.cat((embeddings, padding), dim=0)\n",
    "    else:\n",
    "        embeddings = embeddings[:max_len]\n",
    "\n",
    "    return embeddings.unsqueeze(0).unsqueeze(1)  # 增加batch维度，然后增加通道数\n",
    "\n",
    "# 获取单个字母嵌入的函数\n",
    "def get_single_letter_embedding(letter):\n",
    "    if embedding_cache[letter] is not None:\n",
    "        return embedding_cache[letter]\n",
    "    \n",
    "    response = client.embeddings.create(input=letter, model=embed_model)\n",
    "    embedding = response.data[0].embedding\n",
    "    embedding_cache[letter] = embedding\n",
    "    return embedding\n",
    "\n",
    "# 预测函数\n",
    "def predict(text):\n",
    "    with torch.no_grad():\n",
    "        embeddings = preprocess_user_input(text, max_len).to(device)\n",
    "        outputs = model(embeddings)\n",
    "        probabilities = F.softmax(outputs, dim=1).squeeze()\n",
    "        print(probabilities)\n",
    "        predicted_idx = torch.argmax(probabilities).item()\n",
    "        predicted_label = idx_to_label[predicted_idx]\n",
    "        predicted_prob = probabilities[predicted_idx].item()\n",
    "        \n",
    "    return predicted_label, predicted_prob"
   ]
  },
  {
   "cell_type": "code",
   "execution_count": null,
   "id": "e1962b4a-1072-48fc-8c22-eba03620114c",
   "metadata": {},
   "outputs": [],
   "source": [
    "# 示例用户请求\n",
    "user_request = \"what is the positional encoding?\"\n",
    "predicted_label, predicted_prob = predict(user_request)\n",
    "\n",
    "print(f\"Predicted label: {predicted_label}, Probability: {predicted_prob}\")"
   ]
  },
  {
   "cell_type": "code",
   "execution_count": null,
   "id": "90ad2424-d974-4c13-ae0e-1d36729ab089",
   "metadata": {},
   "outputs": [],
   "source": []
  },
  {
   "cell_type": "code",
   "execution_count": null,
   "id": "d2c223cf-9e75-4f1a-84cd-ed0cd5335f05",
   "metadata": {},
   "outputs": [],
   "source": []
  },
  {
   "cell_type": "code",
   "execution_count": null,
   "id": "ab5b41df-73f5-4307-9b79-23c192f03c05",
   "metadata": {},
   "outputs": [],
   "source": []
  },
  {
   "cell_type": "code",
   "execution_count": null,
   "id": "e38b3de0-55a3-43f5-aed7-403a59fcfcee",
   "metadata": {},
   "outputs": [],
   "source": []
  },
  {
   "cell_type": "code",
   "execution_count": null,
   "id": "bcf8c648-aa7e-4838-be4b-b473c285ae6b",
   "metadata": {},
   "outputs": [],
   "source": []
  }
 ],
 "metadata": {
  "kernelspec": {
   "display_name": "Python 3 (ipykernel)",
   "language": "python",
   "name": "python3"
  },
  "language_info": {
   "codemirror_mode": {
    "name": "ipython",
    "version": 3
   },
   "file_extension": ".py",
   "mimetype": "text/x-python",
   "name": "python",
   "nbconvert_exporter": "python",
   "pygments_lexer": "ipython3",
   "version": "3.8.19"
  }
 },
 "nbformat": 4,
 "nbformat_minor": 5
}
