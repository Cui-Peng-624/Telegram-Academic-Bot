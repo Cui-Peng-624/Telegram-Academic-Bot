{
 "cells": [
  {
   "cell_type": "code",
   "execution_count": 1,
   "id": "b4e6493f-4d28-4856-966f-ac28350fc6ac",
   "metadata": {},
   "outputs": [],
   "source": [
    "import os\n",
    "os.environ[\"http_proxy\"]=\"127.0.0.1:7890\"\n",
    "os.environ[\"https_proxy\"]=\"127.0.0.1:7890\""
   ]
  },
  {
   "cell_type": "code",
   "execution_count": 2,
   "id": "2a02f1f7-477e-44e7-bb02-bc0ce363fb59",
   "metadata": {},
   "outputs": [],
   "source": [
    "from openai import OpenAI\n",
    "\n",
    "api_key = \"\"\n",
    "api_base = \"\"\n",
    "client = OpenAI(api_key=api_key, base_url=api_base)"
   ]
  },
  {
   "cell_type": "code",
   "execution_count": 3,
   "id": "7fcd3c40-4082-4283-8ecc-ab78431815a6",
   "metadata": {},
   "outputs": [],
   "source": [
    "import telebot\n",
    "\n",
    "BOT_TOKEN = \"\"\n",
    "bot = telebot.TeleBot(BOT_TOKEN)"
   ]
  },
  {
   "cell_type": "code",
   "execution_count": 4,
   "id": "9dfed01f-c463-4751-aeff-8218c0fa63fe",
   "metadata": {},
   "outputs": [],
   "source": [
    "import pandas as pd\n",
    "from sklearn.neighbors import NearestNeighbors\n",
    "\n",
    "# 假设你已经加载了 df，包含 'Abstract', 'Title', 和 'Href' 列\n",
    "\n",
    "# 1. 生成嵌入\n",
    "def create_embeddings(text):\n",
    "    response = client.embeddings.create(input=text, model='text-embedding-3-large')  # 使用适当的模型\n",
    "    embeddings = response.data[0].embedding\n",
    "    return embeddings\n",
    "\n",
    "# 生成嵌入并存入df新的一列 'Abstract embeddings'\n",
    "def generate_embeddings_for_dataframe(df, file_path):\n",
    "    # 检查 'Abstract embeddings' 列是否存在，如果不存在则创建\n",
    "    if 'Abstract embeddings' not in df.columns:\n",
    "        df['Abstract embeddings'] = None\n",
    "\n",
    "    embeddings_updated = False\n",
    "\n",
    "    # 遍历 'Abstract' 列，只有当 'Abstract embeddings' 为空时才生成嵌入\n",
    "    for i, abstract in df['Abstract'].items():  # 修改为 items()\n",
    "        if pd.isna(df.at[i, 'Abstract embeddings']):\n",
    "            df.at[i, 'Abstract embeddings'] = create_embeddings(abstract)\n",
    "            embeddings_updated = True  # 标记更新\n",
    "\n",
    "    # 仅当更新了嵌入时才保存到原文件，避免不必要的I/O操作\n",
    "    if embeddings_updated:\n",
    "        df.to_csv(file_path, index=False)\n",
    "        print(f\"### 已更新嵌入并保存到 {file_path} ###\")\n",
    "    else:\n",
    "        print(f\"### 没有新的嵌入需要更新，跳过保存 ###\")\n",
    "\n",
    "    return df\n",
    "\n",
    "import ast  # 用于将字符串转化为列表\n",
    "\n",
    "# 处理抽象嵌入列表，确保每个嵌入都是list而非str\n",
    "def process_abstract_embeddings(abstract_embeddings):\n",
    "    processed_embeddings = []\n",
    "    for embedding in abstract_embeddings:\n",
    "        if isinstance(embedding, str):  # 如果嵌入是字符串格式\n",
    "            try:\n",
    "                embedding = ast.literal_eval(embedding)  # 将字符串转为列表\n",
    "            except (ValueError, SyntaxError):\n",
    "                print(f\"无法解析嵌入：{embedding}\")\n",
    "                continue\n",
    "        processed_embeddings.append(embedding)\n",
    "    return processed_embeddings\n",
    "\n",
    "# 2. 根据用户请求生成嵌入并找到最相似的Top_k论文\n",
    "def find_similar_papers(request_vector, df, top_k=5):\n",
    "    abstract_embeddings = df['Abstract embeddings'].tolist()\n",
    "    \n",
    "    # 确保所有嵌入是正确的数值列表\n",
    "    abstract_embeddings = process_abstract_embeddings(abstract_embeddings)\n",
    "    \n",
    "    # print(type(abstract_embeddings), type(abstract_embeddings[0]), len(abstract_embeddings)) # 第一次输出:<class 'list'> <class 'list'> 10,第二次输出:<class 'list'> <class 'str'> 10\n",
    "    \n",
    "    # 使用 NearestNeighbors 查找最相似的向量\n",
    "    nbrs = NearestNeighbors(n_neighbors=top_k, algorithm='ball_tree').fit(abstract_embeddings)\n",
    "    \n",
    "    distances, indices = nbrs.kneighbors([request_vector])\n",
    "    \n",
    "    # 收集最相似的论文 title 和 href\n",
    "    similar_papers = []\n",
    "    for index, distance in zip(indices[0], distances[0]):\n",
    "        similar_papers.append({\n",
    "            'Title': df['Title'].iloc[index],\n",
    "            'Href': df['href'].iloc[index],\n",
    "            'Distance': distance\n",
    "        })\n",
    "    \n",
    "    return similar_papers"
   ]
  },
  {
   "cell_type": "code",
   "execution_count": 5,
   "id": "0968d02c-8905-41c4-aba9-d3344487fed9",
   "metadata": {},
   "outputs": [],
   "source": [
    "# 3. 实现推荐功能\n",
    "@bot.message_handler(commands=['recommend'])\n",
    "def recommend_initialize(message):\n",
    "    \"\"\"\n",
    "    让用户选择领域并提问。\n",
    "    \"\"\"\n",
    "    markup = telebot.types.ReplyKeyboardMarkup(one_time_keyboard=True) # 卧槽,牛逼啊,变成选择题了!\n",
    "    fields = ['Education', 'Computer_Science', 'Medicine', 'Literature', 'Other']\n",
    "    for field in fields:\n",
    "        markup.add(field)\n",
    "    bot.send_message(message.chat.id, \"请选择一个领域:\", reply_markup=markup)\n",
    "    bot.register_next_step_handler(message, handle_fields)\n",
    "\n",
    "def handle_fields(message):\n",
    "    selected_field = message.text # 例如:Education\n",
    "    file_path = f\"data/data_crawled/database_persistent/{selected_field}.csv\"\n",
    "    bot.send_message(message.chat.id, \"您需要我推荐什么文章?\")\n",
    "    bot.register_next_step_handler(message, recommend_papers, file_path, top_k=3)\n",
    "\n",
    "def recommend_papers(message, file_path, top_k=5):\n",
    "    request = message.text\n",
    "    df = pd.read_csv(file_path)\n",
    "    # 为用户请求生成嵌入\n",
    "    request_embedding = create_embeddings(request)\n",
    "\n",
    "    # 更新 DataFrame 中的嵌入并保存到文件\n",
    "    df = generate_embeddings_for_dataframe(df, file_path)\n",
    "\n",
    "    # 找到与用户请求最相似的论文\n",
    "    similar_papers = find_similar_papers(request_embedding, df, top_k=top_k)\n",
    "    \n",
    "    # 组合推荐结果\n",
    "    total_content = \"Here are the top recommended papers based on your request:\\n\\n\"\n",
    "    for paper in similar_papers:\n",
    "        total_content += f\"Title: {paper['Title']}\\n\"\n",
    "        total_content += f\"Link: {paper['Href']}\\n\"\n",
    "        total_content += f\"Similarity Score: {paper['Distance']}\\n\\n\"\n",
    "    \n",
    "    # 使用 OpenAI 生成完整的推荐响应（可选）\n",
    "    messages = [\n",
    "        {\"role\": \"system\", \"content\": \"You are an AI assistant that helps with academic paper recommendations.\"},\n",
    "        {\"role\": \"user\", \"content\": total_content}\n",
    "    ]\n",
    "\n",
    "    # 生成回复\n",
    "    completion = client.chat.completions.create(\n",
    "        model=\"gpt-4o-mini\",\n",
    "        messages=messages\n",
    "    )\n",
    "    \n",
    "    bot.send_message(message.chat.id, completion.choices[0].message.content, parse_mode=\"Markdown\")"
   ]
  },
  {
   "cell_type": "code",
   "execution_count": 6,
   "id": "6865bbfd-7cc4-4550-8a76-3fb6270093f5",
   "metadata": {},
   "outputs": [],
   "source": [
    "# test\n",
    "# file_path = \"data/data_crawled/database_persistent/Education.csv\"\n",
    "# df = pd.read_csv(file_path)\n",
    "\n",
    "# # df = df.drop(columns=['Abstract embeddings'])\n",
    "# # df.to_csv(file_path, index=False)\n",
    "\n",
    "# # 为用户请求生成推荐\n",
    "# request = \"I want a paper about empathy\"\n",
    "# recommended_papers = recommend_papers(request, df, file_path, top_k=3)  # 注意top_k不能超过df的len\n",
    "\n",
    "# print(recommended_papers)"
   ]
  },
  {
   "cell_type": "code",
   "execution_count": 7,
   "id": "0397adb4-77bb-4fda-8d5b-318af8450f5f",
   "metadata": {},
   "outputs": [
    {
     "name": "stdout",
     "output_type": "stream",
     "text": [
      "### 没有新的嵌入需要更新，跳过保存 ###\n"
     ]
    }
   ],
   "source": [
    "# bot.infinity_polling()\n",
    "bot.polling()"
   ]
  },
  {
   "cell_type": "code",
   "execution_count": null,
   "id": "febe6586-421b-44a8-8cfd-1c7655abe962",
   "metadata": {},
   "outputs": [],
   "source": []
  },
  {
   "cell_type": "code",
   "execution_count": null,
   "id": "8fe99355-88ea-4cd7-9025-cfa370b255cb",
   "metadata": {},
   "outputs": [],
   "source": []
  },
  {
   "cell_type": "code",
   "execution_count": null,
   "id": "ecd22cce-e77b-4a6f-9a8e-d79044c71e70",
   "metadata": {},
   "outputs": [],
   "source": []
  },
  {
   "cell_type": "code",
   "execution_count": null,
   "id": "50f8bf6d-dc21-48b8-801c-372c0f90ced6",
   "metadata": {},
   "outputs": [],
   "source": []
  },
  {
   "cell_type": "code",
   "execution_count": null,
   "id": "b366ab6a-4caf-4c58-a5d0-ff9a0e8ee301",
   "metadata": {},
   "outputs": [],
   "source": []
  }
 ],
 "metadata": {
  "kernelspec": {
   "display_name": "Python 3 (ipykernel)",
   "language": "python",
   "name": "python3"
  },
  "language_info": {
   "codemirror_mode": {
    "name": "ipython",
    "version": 3
   },
   "file_extension": ".py",
   "mimetype": "text/x-python",
   "name": "python",
   "nbconvert_exporter": "python",
   "pygments_lexer": "ipython3",
   "version": "3.8.19"
  }
 },
 "nbformat": 4,
 "nbformat_minor": 5
}
