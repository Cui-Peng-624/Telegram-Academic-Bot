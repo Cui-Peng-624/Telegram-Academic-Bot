{
 "cells": [
  {
   "cell_type": "code",
   "execution_count": null,
   "id": "7105d226-8d21-4962-8be9-c5775957d136",
   "metadata": {},
   "outputs": [],
   "source": [
    "import os\n",
    "os.environ[\"http_proxy\"]=\"127.0.0.1:7890\"\n",
    "os.environ[\"https_proxy\"]=\"127.0.0.1:7890\""
   ]
  },
  {
   "cell_type": "code",
   "execution_count": null,
   "id": "9ba5bdf8-50be-4e07-8f4e-1c93f5b20f8a",
   "metadata": {},
   "outputs": [],
   "source": [
    "from openai import OpenAI\n",
    "\n",
    "# 官方API\n",
    "# client = OpenAI()\n",
    "\n",
    "# 第三方低价API\n",
    "api_key = \"sk-FCDYB07IqQG164cC9604D8096d2e4e44B7CdF8684e19A51f\"\n",
    "api_base = \"https://api.zetatechs.com/v1\"\n",
    "client = OpenAI(api_key=api_key, base_url=api_base)"
   ]
  },
  {
   "cell_type": "code",
   "execution_count": null,
   "id": "101febda-4d56-4680-926c-e02705c5fb85",
   "metadata": {},
   "outputs": [],
   "source": [
    "import telebot\n",
    "\n",
    "BOT_TOKEN = \"7256487851:AAGZKPYt-UsaPStdNU1MfUdC9XE5GikcYDY\"\n",
    "bot = telebot.TeleBot(BOT_TOKEN)"
   ]
  },
  {
   "cell_type": "code",
   "execution_count": null,
   "id": "cd2a7cb3-62fb-4408-8742-9f6fe5bcd228",
   "metadata": {},
   "outputs": [],
   "source": [
    "from pinecone import Pinecone, ServerlessSpec\n",
    "\n",
    "PINECONE_API_KEY = os.environ.get(\"PINECONE_API_KEY\")\n",
    "pc = Pinecone(api_key=PINECONE_API_KEY)\n",
    "index_name = \"telebot\"\n",
    "index = pc.Index(index_name)"
   ]
  },
  {
   "cell_type": "code",
   "execution_count": null,
   "id": "c2dc8907-3b26-4e3c-8a12-ca60d0ef2818",
   "metadata": {},
   "outputs": [],
   "source": [
    "# 确保保存PDF文件的文件夹存在\n",
    "base_dir = 'rawPDFs/'\n",
    "if not os.path.exists(base_dir):\n",
    "    os.makedirs(base_dir)\n",
    "\n",
    "# 确保所有类别的文件夹存在\n",
    "fields = [\"Education\", \"Computer_Science\", \"Medicine\", \"Literature\", \"Other\"]\n",
    "for field in fields:\n",
    "    field_path = os.path.join(base_dir, field)\n",
    "    if not os.path.exists(field_path):\n",
    "        os.makedirs(field_path)"
   ]
  },
  {
   "cell_type": "code",
   "execution_count": null,
   "id": "5ffb6c78-c100-4add-a255-6e129886ee83",
   "metadata": {},
   "outputs": [],
   "source": [
    "# 处理命令上传文件并指定类别\n",
    "@bot.message_handler(commands=['upload'])\n",
    "def handle_upload_command(message):\n",
    "    # text = \"您好！请上传您的文档，并在'添加说明'中显式说明您的文档属于 Eduction, Computer_Science, Medicine, Literature, Other 这五个领域中的哪一个？\\n注意：请单个单个上传文档！\"\n",
    "    # sent_msg = bot.send_message(message.chat.id, text, parse_mode=\"Markdown\")\n",
    "    text = \"您好！请上传您的文档，并在“添加说明”中显式说明您的文档属于 Eduction, Computer_Science, Medicine, Literature, Other 这五个领域中的哪一个？另外，请单个单个上传文档！\"\n",
    "    sent_msg = bot.send_message(message.chat.id, text, parse_mode=None)\n",
    "    bot.register_next_step_handler(sent_msg, handle_document)"
   ]
  },
  {
   "cell_type": "code",
   "execution_count": null,
   "id": "4f34ab38-ca65-4d47-8e7a-94961d0862c6",
   "metadata": {},
   "outputs": [],
   "source": [
    "from pydantic import BaseModel, ValidationError\n",
    "\n",
    "response_format_extract_fields = {\n",
    "    \"type\": \"json_schema\",\n",
    "    \"json_schema\": {\n",
    "        \"name\": \"response_format_extract_fields\",\n",
    "        \"schema\": {\n",
    "            \"type\": \"object\",\n",
    "            \"properties\": {\n",
    "                \"fields\":{\n",
    "                    \"type\": \"string\",\n",
    "                    \"description\": \"从用户请求中判断用户的文档属于哪一个领域。例子: User request: 我的文档属于计算机领域。 - Extracted fields: Computer_Science\",\n",
    "                    \"enum\": [\"Eduction\", \"Computer_Science\", \"Medicine\", \"Literature\", \"Other\"]\n",
    "                }\n",
    "            },\n",
    "            \"required\": [\"fields\"],\n",
    "            \"additionalProperties\": False\n",
    "        },\n",
    "        \"strict\": True\n",
    "    }\n",
    "}\n",
    "\n",
    "class Fields(BaseModel):\n",
    "    fields: str"
   ]
  },
  {
   "cell_type": "code",
   "execution_count": null,
   "id": "19ccb4a4-e93f-4e79-a8e4-4af094a46e5a",
   "metadata": {},
   "outputs": [],
   "source": [
    "from langchain_openai import OpenAIEmbeddings\n",
    "\n",
    "embeddings = OpenAIEmbeddings(model=\"text-embedding-3-large\", api_key=api_key, base_url=api_base) # 使用第三方低价API"
   ]
  },
  {
   "cell_type": "code",
   "execution_count": null,
   "id": "aaa2565b-579b-401b-970a-513e28003a05",
   "metadata": {},
   "outputs": [],
   "source": [
    "from langchain.document_loaders import PyPDFLoader # 处理单个PDF\n",
    "from langchain.document_loaders import PyPDFDirectoryLoader # 处理文件夹下的所有PDF\n",
    "from langchain.text_splitter import RecursiveCharacterTextSplitter\n",
    "\n",
    "from langchain_pinecone import PineconeVectorStore\n",
    "\n",
    "from uuid import uuid4\n",
    "\n",
    "@bot.message_handler(content_types=['document'])\n",
    "def handle_document(message):\n",
    "    if message.caption:  # 用户可能在上传文件时指定了类别\n",
    "        fields_message = message.caption.strip()\n",
    "        # print(\"######\", fields_message, \"######\")\n",
    "        messages_to_model=[\n",
    "            {\"role\": \"system\", \"content\": \"You are an expert at structured data extraction. You will be given unstructured text from a user request and should convert it into the given structure.\"},\n",
    "            {\"role\": \"user\", \"content\": fields_message}\n",
    "        ]\n",
    "        response = client.chat.completions.create(model=\"gpt-4o-mini-2024-07-18\", messages=messages_to_model, response_format=response_format_extract_fields)\n",
    "    \n",
    "        try:\n",
    "            fields = Fields.parse_raw(response.choices[0].message.content)\n",
    "            fields_dict = fields.dict()\n",
    "            fields = fields_dict[\"fields\"]\n",
    "        except ValidationError as e:\n",
    "            print(\"### Fields.parse_raw(response.choices[0].message.content) 出现错误 ###\", e.json())\n",
    "            \n",
    "    else: # 如果没有在“添加说明”中显式地指出类别，则默认分到Other\n",
    "        fields = \"Other\"\n",
    "\n",
    "    # 保存文档到对应类别文件夹\n",
    "    file_info = bot.get_file(message.document.file_id)\n",
    "    downloaded_file = bot.download_file(file_info.file_path)\n",
    "    save_path = os.path.join(base_dir, fields, message.document.file_name)\n",
    "    \n",
    "    with open(save_path, 'wb') as new_file:\n",
    "        new_file.write(downloaded_file)\n",
    "    \n",
    "    bot.reply_to(message, f\"文档已保存到 {save_path}！请稍后!我们将切分文档,并将文档上传到Pinecone矢量数据库.\")\n",
    "\n",
    "    # 保存完到本地之后,先处理文档,再将文件上传到Pinecone矢量数据库\n",
    "    file_path = save_path # 指定要加载的 PDF 文件路径\n",
    "    loader = PyPDFLoader(file_path) # 创建 PyPDFLoader 实例\n",
    "    documents = loader.load() # 加载 PDF 文件并转换为文本数据\n",
    "    splitter = RecursiveCharacterTextSplitter(chunk_size = 500, chunk_overlap  = 50)\n",
    "    documents_chunks = splitter.split_documents(documents)\n",
    "\n",
    "    namespace = fields\n",
    "    vector_store = PineconeVectorStore(index=index, namespace=namespace, embedding=embeddings)\n",
    "    uuids = [str(uuid4()) for _ in range(len(documents_chunks))]\n",
    "    vector_store.add_documents(documents=documents_chunks, ids=uuids)"
   ]
  },
  {
   "cell_type": "code",
   "execution_count": null,
   "id": "35675923-c1a8-45b5-9f04-7231c35181ca",
   "metadata": {},
   "outputs": [],
   "source": [
    "# 启动Bot\n",
    "bot.polling()"
   ]
  },
  {
   "cell_type": "code",
   "execution_count": null,
   "id": "cfa908ee-6049-4e56-a8f1-64c00fa0c9a2",
   "metadata": {},
   "outputs": [],
   "source": []
  },
  {
   "cell_type": "code",
   "execution_count": null,
   "id": "ef98c2e8-b001-4de0-b757-6712571ab2ca",
   "metadata": {},
   "outputs": [],
   "source": []
  },
  {
   "cell_type": "code",
   "execution_count": null,
   "id": "555dc772-8834-43e1-9b0d-59e1c91dbaea",
   "metadata": {},
   "outputs": [],
   "source": []
  },
  {
   "cell_type": "code",
   "execution_count": null,
   "id": "a9d9f93e-0a60-4d4c-a93b-570a15a8d8b8",
   "metadata": {},
   "outputs": [],
   "source": [
    "# 一开始的版本\n",
    "# 定义处理PDF文件的处理器\n",
    "# @bot.message_handler(content_types=['document']) # content_types 是基于消息的内容类型进行处理，而不是特定的命令\n",
    "# def handle_docs(message, fields):\n",
    "#     # 检查是否是PDF文件\n",
    "#     if message.document.mime_type == 'application/pdf':\n",
    "#         file_info = bot.get_file(message.document.file_id)\n",
    "#         downloaded_file = bot.download_file(file_info.file_path)\n",
    "        \n",
    "#         # 构建保存路径\n",
    "#         file_path = os.path.join(save_dir, message.document.file_name)\n",
    "        \n",
    "#         # 将文件保存到指定文件夹\n",
    "#         with open(file_path, 'wb') as new_file:\n",
    "#             new_file.write(downloaded_file)\n",
    "        \n",
    "#         bot.reply_to(message, f\"PDF 文件已成功保存到 {save_dir} 文件夹！\")\n",
    "#     else:\n",
    "#         bot.reply_to(message, \"请发送 PDF 文件。\")"
   ]
  },
  {
   "cell_type": "code",
   "execution_count": null,
   "id": "0579f66c-895f-4685-87d1-45a5779284db",
   "metadata": {},
   "outputs": [],
   "source": []
  },
  {
   "cell_type": "code",
   "execution_count": null,
   "id": "beb48b72-f78c-4068-859e-b32f728dd8ce",
   "metadata": {},
   "outputs": [],
   "source": []
  },
  {
   "cell_type": "code",
   "execution_count": null,
   "id": "03b51135-1e39-474e-82de-cc93eb55cf76",
   "metadata": {},
   "outputs": [],
   "source": []
  }
 ],
 "metadata": {
  "kernelspec": {
   "display_name": "Python 3 (ipykernel)",
   "language": "python",
   "name": "python3"
  },
  "language_info": {
   "codemirror_mode": {
    "name": "ipython",
    "version": 3
   },
   "file_extension": ".py",
   "mimetype": "text/x-python",
   "name": "python",
   "nbconvert_exporter": "python",
   "pygments_lexer": "ipython3",
   "version": "3.8.19"
  }
 },
 "nbformat": 4,
 "nbformat_minor": 5
}
