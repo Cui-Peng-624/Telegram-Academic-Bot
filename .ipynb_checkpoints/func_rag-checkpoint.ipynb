{
 "cells": [
  {
   "cell_type": "code",
   "execution_count": 1,
   "id": "2420e7e2-92a5-43ac-bda6-dc4db2e6c235",
   "metadata": {},
   "outputs": [],
   "source": [
    "import os\n",
    "os.environ[\"http_proxy\"]=\"127.0.0.1:7890\"\n",
    "os.environ[\"https_proxy\"]=\"127.0.0.1:7890\""
   ]
  },
  {
   "cell_type": "code",
   "execution_count": 2,
   "id": "ee67093d-b315-4f50-b8e5-1ca72c5d574b",
   "metadata": {},
   "outputs": [],
   "source": [
    "from openai import OpenAI\n",
    "\n",
    "# 官方API\n",
    "# client = OpenAI()\n",
    "\n",
    "# 第三方低价API\n",
    "api_key = \"sk-FCDYB07IqQG164cC9604D8096d2e4e44B7CdF8684e19A51f\"\n",
    "api_base = \"https://api.zetatechs.com/v1\"\n",
    "client = OpenAI(api_key=api_key, base_url=api_base)"
   ]
  },
  {
   "cell_type": "code",
   "execution_count": 3,
   "id": "62e9c9c1-5cad-4609-964d-06f41bf7ecf7",
   "metadata": {},
   "outputs": [],
   "source": [
    "import telebot\n",
    "\n",
    "BOT_TOKEN = \"7256487851:AAGZKPYt-UsaPStdNU1MfUdC9XE5GikcYDY\"\n",
    "bot = telebot.TeleBot(BOT_TOKEN)"
   ]
  },
  {
   "cell_type": "code",
   "execution_count": 4,
   "id": "cf639c94-a5de-4b10-a209-c48cdd16f466",
   "metadata": {},
   "outputs": [],
   "source": [
    "from pinecone import Pinecone, ServerlessSpec\n",
    "\n",
    "PINECONE_API_KEY = os.environ.get(\"PINECONE_API_KEY\")\n",
    "pc = Pinecone(api_key=PINECONE_API_KEY)\n",
    "\n",
    "index_name = \"telebot\"  # change if desired\n",
    "index = pc.Index(index_name)"
   ]
  },
  {
   "cell_type": "code",
   "execution_count": 5,
   "id": "811380a2-b6ad-4eec-b717-ab1933fbcd10",
   "metadata": {},
   "outputs": [],
   "source": [
    "from langchain_openai import OpenAIEmbeddings\n",
    "\n",
    "embeddings = OpenAIEmbeddings(model=\"text-embedding-3-large\", api_key=api_key, base_url=api_base) # 使用第三方低价API"
   ]
  },
  {
   "cell_type": "code",
   "execution_count": 10,
   "id": "8b586602-ac21-4d0d-a194-fc04bcc6bc71",
   "metadata": {},
   "outputs": [],
   "source": [
    "# 用户输入命令后选择文档类别\n",
    "@bot.message_handler(commands=['talk_with_PDFs'])\n",
    "def ask_field(message):\n",
    "    \"\"\"\n",
    "    让用户选择领域并提问。\n",
    "    \"\"\"\n",
    "    markup = telebot.types.ReplyKeyboardMarkup(one_time_keyboard=True) # 卧槽,牛逼啊,变成选择题了!\n",
    "    fields = ['Education', 'Computer_Science', 'Medicine', 'Literature', 'Other']\n",
    "    for field in fields:\n",
    "        markup.add(field)\n",
    "    bot.send_message(message.chat.id, \"请选择一个领域:\", reply_markup=markup)\n",
    "    bot.register_next_step_handler(message, get_user_question)"
   ]
  },
  {
   "cell_type": "code",
   "execution_count": 11,
   "id": "d370bd8a-c933-45c9-ab17-ea72afbffacf",
   "metadata": {},
   "outputs": [],
   "source": [
    "def get_user_question(message):\n",
    "    \"\"\"\n",
    "    获取用户的问题并开始处理查询。\n",
    "    \"\"\"\n",
    "    selected_field = message.text\n",
    "    bot.send_message(message.chat.id, \"请输入您的问题:\")\n",
    "    bot.register_next_step_handler(message, lambda m: process_query(m, selected_field))\n",
    "\n",
    "def process_query(message, field):\n",
    "    \"\"\"\n",
    "    处理用户查询：在Pinecone中搜索相似内容并生成答案。\n",
    "    \"\"\"\n",
    "    user_question = message.text\n",
    "    namespace = field\n",
    "    results = search_similar_documents(user_question, namespace)\n",
    "    top_k_results = [res.page_content for res, _ in results]\n",
    "    \n",
    "    # 将用户问题与检索结果一同传给OpenAI生成最终答案\n",
    "    final_answer = generate_answer(user_question, top_k_results)\n",
    "    \n",
    "    # 返回结果给用户\n",
    "    bot.send_message(message.chat.id, final_answer)\n",
    "\n",
    "from langchain_pinecone import PineconeVectorStore\n",
    "\n",
    "def search_similar_documents(query, namespace, top_k=5):\n",
    "    \"\"\"\n",
    "    在Pinecone的特定namespace中查找与query最相似的文档内容。\n",
    "    \"\"\"\n",
    "    vector_store = PineconeVectorStore(index=index, namespace=namespace, embedding=embeddings)\n",
    "    results = vector_store.similarity_search_with_score(query, k=top_k)\n",
    "    return results\n",
    "\n",
    "def generate_answer(user_question, documents):\n",
    "    \"\"\"\n",
    "    将用户问题和检索到的文档内容传入OpenAI模型生成答案。\n",
    "    \"\"\"\n",
    "    context = \"\\n\".join(documents)\n",
    "    user_prompt = f\"用户问题: {user_question}\\n相关文档:\\n{context}\\n请根据这些内容回答问题：\"\n",
    "\n",
    "    # system prompt 用于指导模型回答\n",
    "    system_prompt = (\n",
    "        \"你是一个帮助用户回答基于文档内容的问题的助手。\"\n",
    "        \"当用户提出问题时，你应该根据提供的相关文档中的信息进行回答。\"\n",
    "        \"如果文档中包含答案，尽可能引用文档内容并确保准确性。\"\n",
    "        \"如果文档中没有明确的答案，请基于你对文档的理解提供推断，但避免过度猜测。\"\n",
    "    )\n",
    "    \n",
    "    messages_to_model = [\n",
    "        {\"role\": \"system\", \"content\": system_prompt},\n",
    "        {\"role\": \"user\", \"content\": user_prompt}\n",
    "    ]\n",
    "\n",
    "    # 使用OpenAI生成最终答案\n",
    "    completion = client.chat.completions.create(model=\"gpt-4o-mini\", messages=messages_to_model)\n",
    "    return completion.choices[0].message.content"
   ]
  },
  {
   "cell_type": "code",
   "execution_count": 12,
   "id": "b28adc96-ea9c-415f-895e-b3d9eeba24b6",
   "metadata": {},
   "outputs": [
    {
     "ename": "AttributeError",
     "evalue": "'OpenAI' object has no attribute 'Completion'",
     "output_type": "error",
     "traceback": [
      "\u001b[1;31m---------------------------------------------------------------------------\u001b[0m",
      "\u001b[1;31mAttributeError\u001b[0m                            Traceback (most recent call last)",
      "Cell \u001b[1;32mIn[12], line 2\u001b[0m\n\u001b[0;32m      1\u001b[0m \u001b[38;5;66;03m# 启动Bot\u001b[39;00m\n\u001b[1;32m----> 2\u001b[0m \u001b[43mbot\u001b[49m\u001b[38;5;241;43m.\u001b[39;49m\u001b[43mpolling\u001b[49m\u001b[43m(\u001b[49m\u001b[43m)\u001b[49m\n",
      "File \u001b[1;32mD:\\Miniconda\\envs\\AugustFirst\\lib\\site-packages\\telebot\\__init__.py:1178\u001b[0m, in \u001b[0;36mTeleBot.polling\u001b[1;34m(self, non_stop, skip_pending, interval, timeout, long_polling_timeout, logger_level, allowed_updates, none_stop, restart_on_change, path_to_watch)\u001b[0m\n\u001b[0;32m   1175\u001b[0m logger\u001b[38;5;241m.\u001b[39minfo(\u001b[38;5;124m'\u001b[39m\u001b[38;5;124mStarting your bot with username: [@\u001b[39m\u001b[38;5;132;01m%s\u001b[39;00m\u001b[38;5;124m]\u001b[39m\u001b[38;5;124m'\u001b[39m, \u001b[38;5;28mself\u001b[39m\u001b[38;5;241m.\u001b[39muser\u001b[38;5;241m.\u001b[39musername)\n\u001b[0;32m   1177\u001b[0m \u001b[38;5;28;01mif\u001b[39;00m \u001b[38;5;28mself\u001b[39m\u001b[38;5;241m.\u001b[39mthreaded:\n\u001b[1;32m-> 1178\u001b[0m     \u001b[38;5;28;43mself\u001b[39;49m\u001b[38;5;241;43m.\u001b[39;49m\u001b[43m__threaded_polling\u001b[49m\u001b[43m(\u001b[49m\u001b[43mnon_stop\u001b[49m\u001b[38;5;241;43m=\u001b[39;49m\u001b[43mnon_stop\u001b[49m\u001b[43m,\u001b[49m\u001b[43m \u001b[49m\u001b[43minterval\u001b[49m\u001b[38;5;241;43m=\u001b[39;49m\u001b[43minterval\u001b[49m\u001b[43m,\u001b[49m\u001b[43m \u001b[49m\u001b[43mtimeout\u001b[49m\u001b[38;5;241;43m=\u001b[39;49m\u001b[43mtimeout\u001b[49m\u001b[43m,\u001b[49m\u001b[43m \u001b[49m\u001b[43mlong_polling_timeout\u001b[49m\u001b[38;5;241;43m=\u001b[39;49m\u001b[43mlong_polling_timeout\u001b[49m\u001b[43m,\u001b[49m\n\u001b[0;32m   1179\u001b[0m \u001b[43m                            \u001b[49m\u001b[43mlogger_level\u001b[49m\u001b[38;5;241;43m=\u001b[39;49m\u001b[43mlogger_level\u001b[49m\u001b[43m,\u001b[49m\u001b[43m \u001b[49m\u001b[43mallowed_updates\u001b[49m\u001b[38;5;241;43m=\u001b[39;49m\u001b[43mallowed_updates\u001b[49m\u001b[43m)\u001b[49m\n\u001b[0;32m   1180\u001b[0m \u001b[38;5;28;01melse\u001b[39;00m:\n\u001b[0;32m   1181\u001b[0m     \u001b[38;5;28mself\u001b[39m\u001b[38;5;241m.\u001b[39m__non_threaded_polling(non_stop\u001b[38;5;241m=\u001b[39mnon_stop, interval\u001b[38;5;241m=\u001b[39minterval, timeout\u001b[38;5;241m=\u001b[39mtimeout, long_polling_timeout\u001b[38;5;241m=\u001b[39mlong_polling_timeout,\n\u001b[0;32m   1182\u001b[0m                                 logger_level\u001b[38;5;241m=\u001b[39mlogger_level, allowed_updates\u001b[38;5;241m=\u001b[39mallowed_updates)\n",
      "File \u001b[1;32mD:\\Miniconda\\envs\\AugustFirst\\lib\\site-packages\\telebot\\__init__.py:1253\u001b[0m, in \u001b[0;36mTeleBot.__threaded_polling\u001b[1;34m(self, non_stop, interval, timeout, long_polling_timeout, logger_level, allowed_updates)\u001b[0m\n\u001b[0;32m   1251\u001b[0m     polling_thread\u001b[38;5;241m.\u001b[39mclear_exceptions()   \u001b[38;5;66;03m#*\u001b[39;00m\n\u001b[0;32m   1252\u001b[0m     \u001b[38;5;28mself\u001b[39m\u001b[38;5;241m.\u001b[39mworker_pool\u001b[38;5;241m.\u001b[39mclear_exceptions() \u001b[38;5;66;03m#*\u001b[39;00m\n\u001b[1;32m-> 1253\u001b[0m     \u001b[38;5;28;01mraise\u001b[39;00m e\n\u001b[0;32m   1254\u001b[0m \u001b[38;5;28;01melse\u001b[39;00m:\n\u001b[0;32m   1255\u001b[0m     polling_thread\u001b[38;5;241m.\u001b[39mclear_exceptions()\n",
      "File \u001b[1;32mD:\\Miniconda\\envs\\AugustFirst\\lib\\site-packages\\telebot\\__init__.py:1215\u001b[0m, in \u001b[0;36mTeleBot.__threaded_polling\u001b[1;34m(self, non_stop, interval, timeout, long_polling_timeout, logger_level, allowed_updates)\u001b[0m\n\u001b[0;32m   1213\u001b[0m     or_event\u001b[38;5;241m.\u001b[39mwait()  \u001b[38;5;66;03m# wait for polling thread finish, polling thread error or thread pool error\u001b[39;00m\n\u001b[0;32m   1214\u001b[0m     polling_thread\u001b[38;5;241m.\u001b[39mraise_exceptions()\n\u001b[1;32m-> 1215\u001b[0m     \u001b[38;5;28;43mself\u001b[39;49m\u001b[38;5;241;43m.\u001b[39;49m\u001b[43mworker_pool\u001b[49m\u001b[38;5;241;43m.\u001b[39;49m\u001b[43mraise_exceptions\u001b[49m\u001b[43m(\u001b[49m\u001b[43m)\u001b[49m\n\u001b[0;32m   1216\u001b[0m     error_interval \u001b[38;5;241m=\u001b[39m \u001b[38;5;241m0.25\u001b[39m\n\u001b[0;32m   1217\u001b[0m \u001b[38;5;28;01mexcept\u001b[39;00m apihelper\u001b[38;5;241m.\u001b[39mApiException \u001b[38;5;28;01mas\u001b[39;00m e:\n",
      "File \u001b[1;32mD:\\Miniconda\\envs\\AugustFirst\\lib\\site-packages\\telebot\\util.py:150\u001b[0m, in \u001b[0;36mThreadPool.raise_exceptions\u001b[1;34m(self)\u001b[0m\n\u001b[0;32m    148\u001b[0m \u001b[38;5;28;01mdef\u001b[39;00m \u001b[38;5;21mraise_exceptions\u001b[39m(\u001b[38;5;28mself\u001b[39m):\n\u001b[0;32m    149\u001b[0m     \u001b[38;5;28;01mif\u001b[39;00m \u001b[38;5;28mself\u001b[39m\u001b[38;5;241m.\u001b[39mexception_event\u001b[38;5;241m.\u001b[39mis_set():\n\u001b[1;32m--> 150\u001b[0m         \u001b[38;5;28;01mraise\u001b[39;00m \u001b[38;5;28mself\u001b[39m\u001b[38;5;241m.\u001b[39mexception_info\n",
      "File \u001b[1;32mD:\\Miniconda\\envs\\AugustFirst\\lib\\site-packages\\telebot\\util.py:93\u001b[0m, in \u001b[0;36mWorkerThread.run\u001b[1;34m(self)\u001b[0m\n\u001b[0;32m     90\u001b[0m logger\u001b[38;5;241m.\u001b[39mdebug(\u001b[38;5;124m\"\u001b[39m\u001b[38;5;124mReceived task\u001b[39m\u001b[38;5;124m\"\u001b[39m)\n\u001b[0;32m     91\u001b[0m \u001b[38;5;28mself\u001b[39m\u001b[38;5;241m.\u001b[39mreceived_task_event\u001b[38;5;241m.\u001b[39mset()\n\u001b[1;32m---> 93\u001b[0m \u001b[43mtask\u001b[49m\u001b[43m(\u001b[49m\u001b[38;5;241;43m*\u001b[39;49m\u001b[43margs\u001b[49m\u001b[43m,\u001b[49m\u001b[43m \u001b[49m\u001b[38;5;241;43m*\u001b[39;49m\u001b[38;5;241;43m*\u001b[39;49m\u001b[43mkwargs\u001b[49m\u001b[43m)\u001b[49m\n\u001b[0;32m     94\u001b[0m logger\u001b[38;5;241m.\u001b[39mdebug(\u001b[38;5;124m\"\u001b[39m\u001b[38;5;124mTask complete\u001b[39m\u001b[38;5;124m\"\u001b[39m)\n\u001b[0;32m     95\u001b[0m \u001b[38;5;28mself\u001b[39m\u001b[38;5;241m.\u001b[39mdone_event\u001b[38;5;241m.\u001b[39mset()\n",
      "Cell \u001b[1;32mIn[11], line 7\u001b[0m, in \u001b[0;36mget_user_question.<locals>.<lambda>\u001b[1;34m(m)\u001b[0m\n\u001b[0;32m      5\u001b[0m selected_field \u001b[38;5;241m=\u001b[39m message\u001b[38;5;241m.\u001b[39mtext\n\u001b[0;32m      6\u001b[0m bot\u001b[38;5;241m.\u001b[39msend_message(message\u001b[38;5;241m.\u001b[39mchat\u001b[38;5;241m.\u001b[39mid, \u001b[38;5;124m\"\u001b[39m\u001b[38;5;124m请输入您的问题:\u001b[39m\u001b[38;5;124m\"\u001b[39m)\n\u001b[1;32m----> 7\u001b[0m bot\u001b[38;5;241m.\u001b[39mregister_next_step_handler(message, \u001b[38;5;28;01mlambda\u001b[39;00m m: \u001b[43mprocess_query\u001b[49m\u001b[43m(\u001b[49m\u001b[43mm\u001b[49m\u001b[43m,\u001b[49m\u001b[43m \u001b[49m\u001b[43mselected_field\u001b[49m\u001b[43m)\u001b[49m)\n",
      "Cell \u001b[1;32mIn[11], line 19\u001b[0m, in \u001b[0;36mprocess_query\u001b[1;34m(message, field)\u001b[0m\n\u001b[0;32m     16\u001b[0m top_k_results \u001b[38;5;241m=\u001b[39m [res\u001b[38;5;241m.\u001b[39mpage_content \u001b[38;5;28;01mfor\u001b[39;00m res, _ \u001b[38;5;129;01min\u001b[39;00m results]\n\u001b[0;32m     18\u001b[0m \u001b[38;5;66;03m# 将用户问题与检索结果一同传给OpenAI生成最终答案\u001b[39;00m\n\u001b[1;32m---> 19\u001b[0m final_answer \u001b[38;5;241m=\u001b[39m \u001b[43mgenerate_answer\u001b[49m\u001b[43m(\u001b[49m\u001b[43muser_question\u001b[49m\u001b[43m,\u001b[49m\u001b[43m \u001b[49m\u001b[43mtop_k_results\u001b[49m\u001b[43m)\u001b[49m\n\u001b[0;32m     21\u001b[0m \u001b[38;5;66;03m# 返回结果给用户\u001b[39;00m\n\u001b[0;32m     22\u001b[0m bot\u001b[38;5;241m.\u001b[39msend_message(message\u001b[38;5;241m.\u001b[39mchat\u001b[38;5;241m.\u001b[39mid, final_answer)\n",
      "Cell \u001b[1;32mIn[11], line 42\u001b[0m, in \u001b[0;36mgenerate_answer\u001b[1;34m(user_question, documents)\u001b[0m\n\u001b[0;32m     39\u001b[0m prompt \u001b[38;5;241m=\u001b[39m \u001b[38;5;124mf\u001b[39m\u001b[38;5;124m\"\u001b[39m\u001b[38;5;124m用户问题: \u001b[39m\u001b[38;5;132;01m{\u001b[39;00muser_question\u001b[38;5;132;01m}\u001b[39;00m\u001b[38;5;130;01m\\n\u001b[39;00m\u001b[38;5;124m相关文档:\u001b[39m\u001b[38;5;130;01m\\n\u001b[39;00m\u001b[38;5;132;01m{\u001b[39;00mcontext\u001b[38;5;132;01m}\u001b[39;00m\u001b[38;5;130;01m\\n\u001b[39;00m\u001b[38;5;124m请根据这些内容回答问题：\u001b[39m\u001b[38;5;124m\"\u001b[39m\n\u001b[0;32m     41\u001b[0m \u001b[38;5;66;03m# 使用OpenAI生成最终答案\u001b[39;00m\n\u001b[1;32m---> 42\u001b[0m response \u001b[38;5;241m=\u001b[39m \u001b[43mclient\u001b[49m\u001b[38;5;241;43m.\u001b[39;49m\u001b[43mCompletion\u001b[49m\u001b[38;5;241m.\u001b[39mcreate(\n\u001b[0;32m     43\u001b[0m     engine\u001b[38;5;241m=\u001b[39m\u001b[38;5;124m\"\u001b[39m\u001b[38;5;124mtext-davinci-003\u001b[39m\u001b[38;5;124m\"\u001b[39m,\n\u001b[0;32m     44\u001b[0m     prompt\u001b[38;5;241m=\u001b[39mprompt,\n\u001b[0;32m     45\u001b[0m     max_tokens\u001b[38;5;241m=\u001b[39m\u001b[38;5;241m500\u001b[39m\n\u001b[0;32m     46\u001b[0m )\n\u001b[0;32m     47\u001b[0m \u001b[38;5;28;01mreturn\u001b[39;00m response[\u001b[38;5;124m'\u001b[39m\u001b[38;5;124mchoices\u001b[39m\u001b[38;5;124m'\u001b[39m][\u001b[38;5;241m0\u001b[39m][\u001b[38;5;124m'\u001b[39m\u001b[38;5;124mtext\u001b[39m\u001b[38;5;124m'\u001b[39m]\n",
      "\u001b[1;31mAttributeError\u001b[0m: 'OpenAI' object has no attribute 'Completion'"
     ]
    }
   ],
   "source": [
    "# 启动Bot\n",
    "bot.polling()"
   ]
  },
  {
   "cell_type": "code",
   "execution_count": null,
   "id": "8bf3b50c-c3e7-4b58-a837-b44a4fe0c1cb",
   "metadata": {},
   "outputs": [],
   "source": []
  },
  {
   "cell_type": "code",
   "execution_count": null,
   "id": "f9b1e26f-2727-40b8-932e-f899ab486ab3",
   "metadata": {},
   "outputs": [],
   "source": []
  },
  {
   "cell_type": "code",
   "execution_count": null,
   "id": "6e2eb02e-b4cf-4202-9399-bca1eeae88df",
   "metadata": {},
   "outputs": [],
   "source": []
  },
  {
   "cell_type": "code",
   "execution_count": null,
   "id": "0389f41a-27f6-42df-a380-857648a90cda",
   "metadata": {},
   "outputs": [],
   "source": []
  },
  {
   "cell_type": "code",
   "execution_count": null,
   "id": "cb05cfbe-4656-4881-8351-efac37ed8fdd",
   "metadata": {},
   "outputs": [],
   "source": [
    "# test\n",
    "from langchain_pinecone import PineconeVectorStore\n",
    "\n",
    "namespace = \"Computer_Science\"\n",
    "vector_store = PineconeVectorStore(index=index, namespace=namespace, embedding=embeddings)\n",
    "\n",
    "results = vector_store.similarity_search_with_score(\n",
    "    \"脉冲神经网络是什么?\", \n",
    "    k=1\n",
    ")\n",
    "for res, score in results:\n",
    "    print(f\"* [SIM={score:3f}] {res.page_content} [{res.metadata}]\")"
   ]
  },
  {
   "cell_type": "code",
   "execution_count": null,
   "id": "d8fc4ad4-4b7c-4f0d-81dd-9f84cd272fef",
   "metadata": {},
   "outputs": [],
   "source": []
  },
  {
   "cell_type": "code",
   "execution_count": null,
   "id": "59059f79-58ff-4d77-be9f-5bef0b915367",
   "metadata": {},
   "outputs": [],
   "source": []
  }
 ],
 "metadata": {
  "kernelspec": {
   "display_name": "Python 3 (ipykernel)",
   "language": "python",
   "name": "python3"
  },
  "language_info": {
   "codemirror_mode": {
    "name": "ipython",
    "version": 3
   },
   "file_extension": ".py",
   "mimetype": "text/x-python",
   "name": "python",
   "nbconvert_exporter": "python",
   "pygments_lexer": "ipython3",
   "version": "3.8.19"
  }
 },
 "nbformat": 4,
 "nbformat_minor": 5
}
